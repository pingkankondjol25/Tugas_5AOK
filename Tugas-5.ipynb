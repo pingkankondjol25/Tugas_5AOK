{
 "cells": [
  {
   "cell_type": "code",
   "execution_count": 1,
   "metadata": {},
   "outputs": [
    {
     "data": {
      "text/html": [
       "<script>\n",
       "code_show=true; \n",
       "function code_toggle() {\n",
       " if (code_show){\n",
       " $('div.input').hide();\n",
       " } else {\n",
       " $('div.input').show();\n",
       " }\n",
       " code_show = !code_show\n",
       "} \n",
       "$( document ).ready(code_toggle);\n",
       "</script>\n",
       "<form action=\"javascript:code_toggle()\"><input type=\"submit\" value=\"Click here to toggle on/off the raw code.\"></form>"
      ],
      "text/plain": [
       "<IPython.core.display.HTML object>"
      ]
     },
     "execution_count": 1,
     "metadata": {},
     "output_type": "execute_result"
    }
   ],
   "source": [
    "from IPython.display import HTML\n",
    "\n",
    "HTML('''<script>\n",
    "code_show=true; \n",
    "function code_toggle() {\n",
    " if (code_show){\n",
    " $('div.input').hide();\n",
    " } else {\n",
    " $('div.input').show();\n",
    " }\n",
    " code_show = !code_show\n",
    "} \n",
    "$( document ).ready(code_toggle);\n",
    "</script>\n",
    "<form action=\"javascript:code_toggle()\"><input type=\"submit\" value=\"Click here to toggle on/off the raw code.\"></form>''')"
   ]
  },
  {
   "cell_type": "markdown",
   "metadata": {},
   "source": [
    "# EXPLORATORY DATA ANALYSIS\n",
    "Exploratory Data Analysis memungkinkan analyst memahami isi data yang digunakan, mulai dari distribusi, frekuensi, korelasi dan lainnya"
   ]
  },
  {
   "cell_type": "markdown",
   "metadata": {},
   "source": [
    "### Membuat tampilan 10 data pertama"
   ]
  },
  {
   "cell_type": "code",
   "execution_count": 4,
   "metadata": {},
   "outputs": [
    {
     "data": {
      "text/html": [
       "<div>\n",
       "<style scoped>\n",
       "    .dataframe tbody tr th:only-of-type {\n",
       "        vertical-align: middle;\n",
       "    }\n",
       "\n",
       "    .dataframe tbody tr th {\n",
       "        vertical-align: top;\n",
       "    }\n",
       "\n",
       "    .dataframe thead th {\n",
       "        text-align: right;\n",
       "    }\n",
       "</style>\n",
       "<table border=\"1\" class=\"dataframe\">\n",
       "  <thead>\n",
       "    <tr style=\"text-align: right;\">\n",
       "      <th></th>\n",
       "      <th>Menurut anda seorang Programmer harus menguasai minimal 3 bahasa pemrograman</th>\n",
       "      <th>Apakah anda pernah mengunakan bahasa python</th>\n",
       "      <th>Bahasa pemrograman python lebih mudah untuk digunakan daripada bahasa pemrograman yang lain</th>\n",
       "      <th>Menurut anda,apakah Bahasa pemrograman python memiliki readability yang user-friendly daripada bahasa pemrograman java?</th>\n",
       "      <th>Seorang programmer boleh menggenalkan bug yang ada di dalam software yang nantinya programmer mendapat keuntungan dalam membetulkan bug</th>\n",
       "      <th>Programmer tidak boleh mencuri Software khususnya development tools</th>\n",
       "      <th>Software yang dibuat secara tim dapat diperjual belikan tanpa memberitahukan kepada tim sebelumnya</th>\n",
       "      <th>Menurut anda apakah software bajakan baik untuk digunakan?</th>\n",
       "      <th>Apakah anda pernah mengikuti program sertifikasi untuk software programmer</th>\n",
       "      <th>Apakah anda setuju jika seorang Software programmer jika memiliki lebih dari satu sertifikasi maka mendapatkan gaji yang lebih besar</th>\n",
       "    </tr>\n",
       "  </thead>\n",
       "  <tbody>\n",
       "    <tr>\n",
       "      <td>0</td>\n",
       "      <td>4</td>\n",
       "      <td>1</td>\n",
       "      <td>3</td>\n",
       "      <td>3</td>\n",
       "      <td>2</td>\n",
       "      <td>4</td>\n",
       "      <td>4</td>\n",
       "      <td>5</td>\n",
       "      <td>1</td>\n",
       "      <td>5</td>\n",
       "    </tr>\n",
       "    <tr>\n",
       "      <td>1</td>\n",
       "      <td>4</td>\n",
       "      <td>2</td>\n",
       "      <td>4</td>\n",
       "      <td>4</td>\n",
       "      <td>2</td>\n",
       "      <td>5</td>\n",
       "      <td>4</td>\n",
       "      <td>5</td>\n",
       "      <td>1</td>\n",
       "      <td>4</td>\n",
       "    </tr>\n",
       "    <tr>\n",
       "      <td>2</td>\n",
       "      <td>4</td>\n",
       "      <td>3</td>\n",
       "      <td>3</td>\n",
       "      <td>3</td>\n",
       "      <td>2</td>\n",
       "      <td>5</td>\n",
       "      <td>4</td>\n",
       "      <td>4</td>\n",
       "      <td>2</td>\n",
       "      <td>4</td>\n",
       "    </tr>\n",
       "    <tr>\n",
       "      <td>3</td>\n",
       "      <td>5</td>\n",
       "      <td>1</td>\n",
       "      <td>3</td>\n",
       "      <td>3</td>\n",
       "      <td>1</td>\n",
       "      <td>5</td>\n",
       "      <td>4</td>\n",
       "      <td>4</td>\n",
       "      <td>1</td>\n",
       "      <td>4</td>\n",
       "    </tr>\n",
       "    <tr>\n",
       "      <td>4</td>\n",
       "      <td>1</td>\n",
       "      <td>5</td>\n",
       "      <td>4</td>\n",
       "      <td>3</td>\n",
       "      <td>1</td>\n",
       "      <td>2</td>\n",
       "      <td>5</td>\n",
       "      <td>1</td>\n",
       "      <td>2</td>\n",
       "      <td>3</td>\n",
       "    </tr>\n",
       "    <tr>\n",
       "      <td>5</td>\n",
       "      <td>1</td>\n",
       "      <td>2</td>\n",
       "      <td>1</td>\n",
       "      <td>1</td>\n",
       "      <td>5</td>\n",
       "      <td>1</td>\n",
       "      <td>5</td>\n",
       "      <td>5</td>\n",
       "      <td>1</td>\n",
       "      <td>1</td>\n",
       "    </tr>\n",
       "    <tr>\n",
       "      <td>6</td>\n",
       "      <td>1</td>\n",
       "      <td>1</td>\n",
       "      <td>2</td>\n",
       "      <td>1</td>\n",
       "      <td>3</td>\n",
       "      <td>5</td>\n",
       "      <td>5</td>\n",
       "      <td>5</td>\n",
       "      <td>1</td>\n",
       "      <td>1</td>\n",
       "    </tr>\n",
       "    <tr>\n",
       "      <td>7</td>\n",
       "      <td>4</td>\n",
       "      <td>1</td>\n",
       "      <td>3</td>\n",
       "      <td>3</td>\n",
       "      <td>3</td>\n",
       "      <td>4</td>\n",
       "      <td>5</td>\n",
       "      <td>3</td>\n",
       "      <td>1</td>\n",
       "      <td>3</td>\n",
       "    </tr>\n",
       "    <tr>\n",
       "      <td>8</td>\n",
       "      <td>2</td>\n",
       "      <td>3</td>\n",
       "      <td>1</td>\n",
       "      <td>4</td>\n",
       "      <td>2</td>\n",
       "      <td>4</td>\n",
       "      <td>1</td>\n",
       "      <td>5</td>\n",
       "      <td>3</td>\n",
       "      <td>1</td>\n",
       "    </tr>\n",
       "    <tr>\n",
       "      <td>9</td>\n",
       "      <td>4</td>\n",
       "      <td>1</td>\n",
       "      <td>3</td>\n",
       "      <td>3</td>\n",
       "      <td>2</td>\n",
       "      <td>5</td>\n",
       "      <td>5</td>\n",
       "      <td>3</td>\n",
       "      <td>2</td>\n",
       "      <td>4</td>\n",
       "    </tr>\n",
       "  </tbody>\n",
       "</table>\n",
       "</div>"
      ],
      "text/plain": [
       "   Menurut anda seorang Programmer harus menguasai minimal 3 bahasa pemrograman          \\\n",
       "0                                                  4                                      \n",
       "1                                                  4                                      \n",
       "2                                                  4                                      \n",
       "3                                                  5                                      \n",
       "4                                                  1                                      \n",
       "5                                                  1                                      \n",
       "6                                                  1                                      \n",
       "7                                                  4                                      \n",
       "8                                                  2                                      \n",
       "9                                                  4                                      \n",
       "\n",
       "   Apakah anda pernah mengunakan bahasa python  \\\n",
       "0                                            1   \n",
       "1                                            2   \n",
       "2                                            3   \n",
       "3                                            1   \n",
       "4                                            5   \n",
       "5                                            2   \n",
       "6                                            1   \n",
       "7                                            1   \n",
       "8                                            3   \n",
       "9                                            1   \n",
       "\n",
       "   Bahasa pemrograman python lebih mudah untuk digunakan daripada bahasa pemrograman yang lain  \\\n",
       "0                                                  3                                             \n",
       "1                                                  4                                             \n",
       "2                                                  3                                             \n",
       "3                                                  3                                             \n",
       "4                                                  4                                             \n",
       "5                                                  1                                             \n",
       "6                                                  2                                             \n",
       "7                                                  3                                             \n",
       "8                                                  1                                             \n",
       "9                                                  3                                             \n",
       "\n",
       "   Menurut anda,apakah Bahasa pemrograman python memiliki readability yang user-friendly daripada bahasa pemrograman java?  \\\n",
       "0                                                  3                                                                         \n",
       "1                                                  4                                                                         \n",
       "2                                                  3                                                                         \n",
       "3                                                  3                                                                         \n",
       "4                                                  3                                                                         \n",
       "5                                                  1                                                                         \n",
       "6                                                  1                                                                         \n",
       "7                                                  3                                                                         \n",
       "8                                                  4                                                                         \n",
       "9                                                  3                                                                         \n",
       "\n",
       "   Seorang programmer boleh menggenalkan bug yang ada di dalam software yang nantinya programmer mendapat keuntungan dalam membetulkan bug  \\\n",
       "0                                                  2                                                                                         \n",
       "1                                                  2                                                                                         \n",
       "2                                                  2                                                                                         \n",
       "3                                                  1                                                                                         \n",
       "4                                                  1                                                                                         \n",
       "5                                                  5                                                                                         \n",
       "6                                                  3                                                                                         \n",
       "7                                                  3                                                                                         \n",
       "8                                                  2                                                                                         \n",
       "9                                                  2                                                                                         \n",
       "\n",
       "   Programmer tidak boleh mencuri Software khususnya development tools  \\\n",
       "0                                                  4                     \n",
       "1                                                  5                     \n",
       "2                                                  5                     \n",
       "3                                                  5                     \n",
       "4                                                  2                     \n",
       "5                                                  1                     \n",
       "6                                                  5                     \n",
       "7                                                  4                     \n",
       "8                                                  4                     \n",
       "9                                                  5                     \n",
       "\n",
       "   Software yang dibuat secara tim dapat diperjual belikan tanpa memberitahukan kepada tim sebelumnya  \\\n",
       "0                                                  4                                                    \n",
       "1                                                  4                                                    \n",
       "2                                                  4                                                    \n",
       "3                                                  4                                                    \n",
       "4                                                  5                                                    \n",
       "5                                                  5                                                    \n",
       "6                                                  5                                                    \n",
       "7                                                  5                                                    \n",
       "8                                                  1                                                    \n",
       "9                                                  5                                                    \n",
       "\n",
       "   Menurut anda apakah software bajakan baik untuk digunakan?  \\\n",
       "0                                                  5            \n",
       "1                                                  5            \n",
       "2                                                  4            \n",
       "3                                                  4            \n",
       "4                                                  1            \n",
       "5                                                  5            \n",
       "6                                                  5            \n",
       "7                                                  3            \n",
       "8                                                  5            \n",
       "9                                                  3            \n",
       "\n",
       "   Apakah anda pernah mengikuti program sertifikasi untuk software programmer  \\\n",
       "0                                                  1                            \n",
       "1                                                  1                            \n",
       "2                                                  2                            \n",
       "3                                                  1                            \n",
       "4                                                  2                            \n",
       "5                                                  1                            \n",
       "6                                                  1                            \n",
       "7                                                  1                            \n",
       "8                                                  3                            \n",
       "9                                                  2                            \n",
       "\n",
       "   Apakah anda setuju jika seorang Software programmer jika memiliki lebih dari satu sertifikasi maka mendapatkan gaji yang lebih besar  \n",
       "0                                                  5                                                                                     \n",
       "1                                                  4                                                                                     \n",
       "2                                                  4                                                                                     \n",
       "3                                                  4                                                                                     \n",
       "4                                                  3                                                                                     \n",
       "5                                                  1                                                                                     \n",
       "6                                                  1                                                                                     \n",
       "7                                                  3                                                                                     \n",
       "8                                                  1                                                                                     \n",
       "9                                                  4                                                                                     "
      ]
     },
     "execution_count": 4,
     "metadata": {},
     "output_type": "execute_result"
    }
   ],
   "source": [
    "data.head(10)"
   ]
  },
  {
   "cell_type": "markdown",
   "metadata": {},
   "source": [
    "### Dimensi Data"
   ]
  },
  {
   "cell_type": "code",
   "execution_count": 5,
   "metadata": {},
   "outputs": [
    {
     "data": {
      "text/plain": [
       "(502, 10)"
      ]
     },
     "execution_count": 5,
     "metadata": {},
     "output_type": "execute_result"
    }
   ],
   "source": [
    "data.shape"
   ]
  },
  {
   "cell_type": "markdown",
   "metadata": {},
   "source": [
    "### Melihat fitur data yang disediakan"
   ]
  },
  {
   "cell_type": "code",
   "execution_count": 6,
   "metadata": {},
   "outputs": [
    {
     "data": {
      "text/plain": [
       "Index(['Menurut anda seorang Programmer harus menguasai minimal 3 bahasa pemrograman        ',\n",
       "       'Apakah anda pernah mengunakan bahasa python',\n",
       "       'Bahasa pemrograman python lebih mudah untuk digunakan daripada bahasa pemrograman yang lain',\n",
       "       'Menurut anda,apakah Bahasa pemrograman python memiliki readability yang user-friendly daripada bahasa pemrograman java?',\n",
       "       'Seorang programmer boleh menggenalkan bug yang ada di dalam software yang nantinya programmer mendapat keuntungan dalam membetulkan bug',\n",
       "       'Programmer tidak boleh mencuri Software khususnya development tools',\n",
       "       'Software yang dibuat secara tim dapat diperjual belikan tanpa memberitahukan kepada tim sebelumnya',\n",
       "       'Menurut anda apakah software bajakan baik untuk digunakan?',\n",
       "       'Apakah anda pernah mengikuti program sertifikasi untuk software programmer',\n",
       "       'Apakah anda setuju jika seorang Software programmer jika memiliki lebih dari satu sertifikasi maka mendapatkan gaji yang lebih besar'],\n",
       "      dtype='object')"
      ]
     },
     "execution_count": 6,
     "metadata": {},
     "output_type": "execute_result"
    }
   ],
   "source": [
    "data.columns"
   ]
  },
  {
   "cell_type": "markdown",
   "metadata": {},
   "source": [
    "### Deskripsi Data\n",
    "Menampilkan perhitungan dalam jumlah data, rata-rata, standard deviasi, nilai minimum dan maksimum."
   ]
  },
  {
   "cell_type": "code",
   "execution_count": 7,
   "metadata": {},
   "outputs": [
    {
     "data": {
      "text/html": [
       "<div>\n",
       "<style scoped>\n",
       "    .dataframe tbody tr th:only-of-type {\n",
       "        vertical-align: middle;\n",
       "    }\n",
       "\n",
       "    .dataframe tbody tr th {\n",
       "        vertical-align: top;\n",
       "    }\n",
       "\n",
       "    .dataframe thead th {\n",
       "        text-align: right;\n",
       "    }\n",
       "</style>\n",
       "<table border=\"1\" class=\"dataframe\">\n",
       "  <thead>\n",
       "    <tr style=\"text-align: right;\">\n",
       "      <th></th>\n",
       "      <th>Menurut anda seorang Programmer harus menguasai minimal 3 bahasa pemrograman</th>\n",
       "      <th>Apakah anda pernah mengunakan bahasa python</th>\n",
       "      <th>Bahasa pemrograman python lebih mudah untuk digunakan daripada bahasa pemrograman yang lain</th>\n",
       "      <th>Menurut anda,apakah Bahasa pemrograman python memiliki readability yang user-friendly daripada bahasa pemrograman java?</th>\n",
       "      <th>Seorang programmer boleh menggenalkan bug yang ada di dalam software yang nantinya programmer mendapat keuntungan dalam membetulkan bug</th>\n",
       "      <th>Programmer tidak boleh mencuri Software khususnya development tools</th>\n",
       "      <th>Software yang dibuat secara tim dapat diperjual belikan tanpa memberitahukan kepada tim sebelumnya</th>\n",
       "      <th>Menurut anda apakah software bajakan baik untuk digunakan?</th>\n",
       "      <th>Apakah anda pernah mengikuti program sertifikasi untuk software programmer</th>\n",
       "      <th>Apakah anda setuju jika seorang Software programmer jika memiliki lebih dari satu sertifikasi maka mendapatkan gaji yang lebih besar</th>\n",
       "    </tr>\n",
       "  </thead>\n",
       "  <tbody>\n",
       "    <tr>\n",
       "      <td>count</td>\n",
       "      <td>502.000000</td>\n",
       "      <td>502.000000</td>\n",
       "      <td>502.000000</td>\n",
       "      <td>502.000000</td>\n",
       "      <td>502.000000</td>\n",
       "      <td>502.000000</td>\n",
       "      <td>502.000000</td>\n",
       "      <td>502.000000</td>\n",
       "      <td>502.000000</td>\n",
       "      <td>502.000000</td>\n",
       "    </tr>\n",
       "    <tr>\n",
       "      <td>mean</td>\n",
       "      <td>3.573705</td>\n",
       "      <td>1.635458</td>\n",
       "      <td>3.264940</td>\n",
       "      <td>3.414343</td>\n",
       "      <td>2.808765</td>\n",
       "      <td>3.768924</td>\n",
       "      <td>3.597610</td>\n",
       "      <td>3.511952</td>\n",
       "      <td>1.525896</td>\n",
       "      <td>3.727092</td>\n",
       "    </tr>\n",
       "    <tr>\n",
       "      <td>std</td>\n",
       "      <td>1.143211</td>\n",
       "      <td>1.079928</td>\n",
       "      <td>0.996764</td>\n",
       "      <td>0.951747</td>\n",
       "      <td>1.081178</td>\n",
       "      <td>1.056484</td>\n",
       "      <td>1.186011</td>\n",
       "      <td>1.136781</td>\n",
       "      <td>1.002157</td>\n",
       "      <td>1.022317</td>\n",
       "    </tr>\n",
       "    <tr>\n",
       "      <td>min</td>\n",
       "      <td>1.000000</td>\n",
       "      <td>1.000000</td>\n",
       "      <td>1.000000</td>\n",
       "      <td>1.000000</td>\n",
       "      <td>1.000000</td>\n",
       "      <td>1.000000</td>\n",
       "      <td>1.000000</td>\n",
       "      <td>1.000000</td>\n",
       "      <td>1.000000</td>\n",
       "      <td>1.000000</td>\n",
       "    </tr>\n",
       "    <tr>\n",
       "      <td>25%</td>\n",
       "      <td>3.000000</td>\n",
       "      <td>1.000000</td>\n",
       "      <td>3.000000</td>\n",
       "      <td>3.000000</td>\n",
       "      <td>2.000000</td>\n",
       "      <td>3.000000</td>\n",
       "      <td>3.000000</td>\n",
       "      <td>3.000000</td>\n",
       "      <td>1.000000</td>\n",
       "      <td>3.000000</td>\n",
       "    </tr>\n",
       "    <tr>\n",
       "      <td>50%</td>\n",
       "      <td>4.000000</td>\n",
       "      <td>1.000000</td>\n",
       "      <td>3.000000</td>\n",
       "      <td>4.000000</td>\n",
       "      <td>3.000000</td>\n",
       "      <td>4.000000</td>\n",
       "      <td>4.000000</td>\n",
       "      <td>4.000000</td>\n",
       "      <td>1.000000</td>\n",
       "      <td>4.000000</td>\n",
       "    </tr>\n",
       "    <tr>\n",
       "      <td>75%</td>\n",
       "      <td>4.000000</td>\n",
       "      <td>2.000000</td>\n",
       "      <td>4.000000</td>\n",
       "      <td>4.000000</td>\n",
       "      <td>4.000000</td>\n",
       "      <td>4.000000</td>\n",
       "      <td>4.000000</td>\n",
       "      <td>4.000000</td>\n",
       "      <td>2.000000</td>\n",
       "      <td>4.000000</td>\n",
       "    </tr>\n",
       "    <tr>\n",
       "      <td>max</td>\n",
       "      <td>5.000000</td>\n",
       "      <td>5.000000</td>\n",
       "      <td>5.000000</td>\n",
       "      <td>5.000000</td>\n",
       "      <td>5.000000</td>\n",
       "      <td>5.000000</td>\n",
       "      <td>5.000000</td>\n",
       "      <td>5.000000</td>\n",
       "      <td>5.000000</td>\n",
       "      <td>5.000000</td>\n",
       "    </tr>\n",
       "  </tbody>\n",
       "</table>\n",
       "</div>"
      ],
      "text/plain": [
       "       Menurut anda seorang Programmer harus menguasai minimal 3 bahasa pemrograman          \\\n",
       "count                                         502.000000                                      \n",
       "mean                                            3.573705                                      \n",
       "std                                             1.143211                                      \n",
       "min                                             1.000000                                      \n",
       "25%                                             3.000000                                      \n",
       "50%                                             4.000000                                      \n",
       "75%                                             4.000000                                      \n",
       "max                                             5.000000                                      \n",
       "\n",
       "       Apakah anda pernah mengunakan bahasa python  \\\n",
       "count                                   502.000000   \n",
       "mean                                      1.635458   \n",
       "std                                       1.079928   \n",
       "min                                       1.000000   \n",
       "25%                                       1.000000   \n",
       "50%                                       1.000000   \n",
       "75%                                       2.000000   \n",
       "max                                       5.000000   \n",
       "\n",
       "       Bahasa pemrograman python lebih mudah untuk digunakan daripada bahasa pemrograman yang lain  \\\n",
       "count                                         502.000000                                             \n",
       "mean                                            3.264940                                             \n",
       "std                                             0.996764                                             \n",
       "min                                             1.000000                                             \n",
       "25%                                             3.000000                                             \n",
       "50%                                             3.000000                                             \n",
       "75%                                             4.000000                                             \n",
       "max                                             5.000000                                             \n",
       "\n",
       "       Menurut anda,apakah Bahasa pemrograman python memiliki readability yang user-friendly daripada bahasa pemrograman java?  \\\n",
       "count                                         502.000000                                                                         \n",
       "mean                                            3.414343                                                                         \n",
       "std                                             0.951747                                                                         \n",
       "min                                             1.000000                                                                         \n",
       "25%                                             3.000000                                                                         \n",
       "50%                                             4.000000                                                                         \n",
       "75%                                             4.000000                                                                         \n",
       "max                                             5.000000                                                                         \n",
       "\n",
       "       Seorang programmer boleh menggenalkan bug yang ada di dalam software yang nantinya programmer mendapat keuntungan dalam membetulkan bug  \\\n",
       "count                                         502.000000                                                                                         \n",
       "mean                                            2.808765                                                                                         \n",
       "std                                             1.081178                                                                                         \n",
       "min                                             1.000000                                                                                         \n",
       "25%                                             2.000000                                                                                         \n",
       "50%                                             3.000000                                                                                         \n",
       "75%                                             4.000000                                                                                         \n",
       "max                                             5.000000                                                                                         \n",
       "\n",
       "       Programmer tidak boleh mencuri Software khususnya development tools  \\\n",
       "count                                         502.000000                     \n",
       "mean                                            3.768924                     \n",
       "std                                             1.056484                     \n",
       "min                                             1.000000                     \n",
       "25%                                             3.000000                     \n",
       "50%                                             4.000000                     \n",
       "75%                                             4.000000                     \n",
       "max                                             5.000000                     \n",
       "\n",
       "       Software yang dibuat secara tim dapat diperjual belikan tanpa memberitahukan kepada tim sebelumnya  \\\n",
       "count                                         502.000000                                                    \n",
       "mean                                            3.597610                                                    \n",
       "std                                             1.186011                                                    \n",
       "min                                             1.000000                                                    \n",
       "25%                                             3.000000                                                    \n",
       "50%                                             4.000000                                                    \n",
       "75%                                             4.000000                                                    \n",
       "max                                             5.000000                                                    \n",
       "\n",
       "       Menurut anda apakah software bajakan baik untuk digunakan?  \\\n",
       "count                                         502.000000            \n",
       "mean                                            3.511952            \n",
       "std                                             1.136781            \n",
       "min                                             1.000000            \n",
       "25%                                             3.000000            \n",
       "50%                                             4.000000            \n",
       "75%                                             4.000000            \n",
       "max                                             5.000000            \n",
       "\n",
       "       Apakah anda pernah mengikuti program sertifikasi untuk software programmer  \\\n",
       "count                                         502.000000                            \n",
       "mean                                            1.525896                            \n",
       "std                                             1.002157                            \n",
       "min                                             1.000000                            \n",
       "25%                                             1.000000                            \n",
       "50%                                             1.000000                            \n",
       "75%                                             2.000000                            \n",
       "max                                             5.000000                            \n",
       "\n",
       "       Apakah anda setuju jika seorang Software programmer jika memiliki lebih dari satu sertifikasi maka mendapatkan gaji yang lebih besar  \n",
       "count                                         502.000000                                                                                     \n",
       "mean                                            3.727092                                                                                     \n",
       "std                                             1.022317                                                                                     \n",
       "min                                             1.000000                                                                                     \n",
       "25%                                             3.000000                                                                                     \n",
       "50%                                             4.000000                                                                                     \n",
       "75%                                             4.000000                                                                                     \n",
       "max                                             5.000000                                                                                     "
      ]
     },
     "execution_count": 7,
     "metadata": {},
     "output_type": "execute_result"
    }
   ],
   "source": [
    "data.describe()"
   ]
  },
  {
   "cell_type": "markdown",
   "metadata": {},
   "source": [
    "### Menghitung nilai korelasi \n",
    "Perhitungan korelasi menggunakan metode kendall"
   ]
  },
  {
   "cell_type": "code",
   "execution_count": 8,
   "metadata": {},
   "outputs": [
    {
     "data": {
      "text/html": [
       "<div>\n",
       "<style scoped>\n",
       "    .dataframe tbody tr th:only-of-type {\n",
       "        vertical-align: middle;\n",
       "    }\n",
       "\n",
       "    .dataframe tbody tr th {\n",
       "        vertical-align: top;\n",
       "    }\n",
       "\n",
       "    .dataframe thead th {\n",
       "        text-align: right;\n",
       "    }\n",
       "</style>\n",
       "<table border=\"1\" class=\"dataframe\">\n",
       "  <thead>\n",
       "    <tr style=\"text-align: right;\">\n",
       "      <th></th>\n",
       "      <th>Menurut anda seorang Programmer harus menguasai minimal 3 bahasa pemrograman</th>\n",
       "      <th>Apakah anda pernah mengunakan bahasa python</th>\n",
       "      <th>Bahasa pemrograman python lebih mudah untuk digunakan daripada bahasa pemrograman yang lain</th>\n",
       "      <th>Menurut anda,apakah Bahasa pemrograman python memiliki readability yang user-friendly daripada bahasa pemrograman java?</th>\n",
       "      <th>Seorang programmer boleh menggenalkan bug yang ada di dalam software yang nantinya programmer mendapat keuntungan dalam membetulkan bug</th>\n",
       "      <th>Programmer tidak boleh mencuri Software khususnya development tools</th>\n",
       "      <th>Software yang dibuat secara tim dapat diperjual belikan tanpa memberitahukan kepada tim sebelumnya</th>\n",
       "      <th>Menurut anda apakah software bajakan baik untuk digunakan?</th>\n",
       "      <th>Apakah anda pernah mengikuti program sertifikasi untuk software programmer</th>\n",
       "      <th>Apakah anda setuju jika seorang Software programmer jika memiliki lebih dari satu sertifikasi maka mendapatkan gaji yang lebih besar</th>\n",
       "    </tr>\n",
       "  </thead>\n",
       "  <tbody>\n",
       "    <tr>\n",
       "      <td>Menurut anda seorang Programmer harus menguasai minimal 3 bahasa pemrograman</td>\n",
       "      <td>1.000000</td>\n",
       "      <td>0.043117</td>\n",
       "      <td>0.174263</td>\n",
       "      <td>0.143034</td>\n",
       "      <td>-0.228475</td>\n",
       "      <td>0.223806</td>\n",
       "      <td>0.153366</td>\n",
       "      <td>0.077701</td>\n",
       "      <td>-0.049520</td>\n",
       "      <td>0.180758</td>\n",
       "    </tr>\n",
       "    <tr>\n",
       "      <td>Apakah anda pernah mengunakan bahasa python</td>\n",
       "      <td>0.043117</td>\n",
       "      <td>1.000000</td>\n",
       "      <td>0.072491</td>\n",
       "      <td>0.045088</td>\n",
       "      <td>0.090044</td>\n",
       "      <td>-0.014817</td>\n",
       "      <td>-0.074123</td>\n",
       "      <td>-0.190757</td>\n",
       "      <td>0.411805</td>\n",
       "      <td>0.023326</td>\n",
       "    </tr>\n",
       "    <tr>\n",
       "      <td>Bahasa pemrograman python lebih mudah untuk digunakan daripada bahasa pemrograman yang lain</td>\n",
       "      <td>0.174263</td>\n",
       "      <td>0.072491</td>\n",
       "      <td>1.000000</td>\n",
       "      <td>0.464015</td>\n",
       "      <td>-0.213024</td>\n",
       "      <td>0.153725</td>\n",
       "      <td>0.042401</td>\n",
       "      <td>0.017393</td>\n",
       "      <td>-0.091603</td>\n",
       "      <td>0.228788</td>\n",
       "    </tr>\n",
       "    <tr>\n",
       "      <td>Menurut anda,apakah Bahasa pemrograman python memiliki readability yang user-friendly daripada bahasa pemrograman java?</td>\n",
       "      <td>0.143034</td>\n",
       "      <td>0.045088</td>\n",
       "      <td>0.464015</td>\n",
       "      <td>1.000000</td>\n",
       "      <td>-0.133933</td>\n",
       "      <td>0.099652</td>\n",
       "      <td>-0.034360</td>\n",
       "      <td>0.040937</td>\n",
       "      <td>-0.073674</td>\n",
       "      <td>0.216801</td>\n",
       "    </tr>\n",
       "    <tr>\n",
       "      <td>Seorang programmer boleh menggenalkan bug yang ada di dalam software yang nantinya programmer mendapat keuntungan dalam membetulkan bug</td>\n",
       "      <td>-0.228475</td>\n",
       "      <td>0.090044</td>\n",
       "      <td>-0.213024</td>\n",
       "      <td>-0.133933</td>\n",
       "      <td>1.000000</td>\n",
       "      <td>-0.153841</td>\n",
       "      <td>0.062613</td>\n",
       "      <td>0.044461</td>\n",
       "      <td>0.020443</td>\n",
       "      <td>-0.046840</td>\n",
       "    </tr>\n",
       "    <tr>\n",
       "      <td>Programmer tidak boleh mencuri Software khususnya development tools</td>\n",
       "      <td>0.223806</td>\n",
       "      <td>-0.014817</td>\n",
       "      <td>0.153725</td>\n",
       "      <td>0.099652</td>\n",
       "      <td>-0.153841</td>\n",
       "      <td>1.000000</td>\n",
       "      <td>0.192869</td>\n",
       "      <td>0.202870</td>\n",
       "      <td>-0.082013</td>\n",
       "      <td>0.212947</td>\n",
       "    </tr>\n",
       "    <tr>\n",
       "      <td>Software yang dibuat secara tim dapat diperjual belikan tanpa memberitahukan kepada tim sebelumnya</td>\n",
       "      <td>0.153366</td>\n",
       "      <td>-0.074123</td>\n",
       "      <td>0.042401</td>\n",
       "      <td>-0.034360</td>\n",
       "      <td>0.062613</td>\n",
       "      <td>0.192869</td>\n",
       "      <td>1.000000</td>\n",
       "      <td>0.385512</td>\n",
       "      <td>-0.241028</td>\n",
       "      <td>0.071929</td>\n",
       "    </tr>\n",
       "    <tr>\n",
       "      <td>Menurut anda apakah software bajakan baik untuk digunakan?</td>\n",
       "      <td>0.077701</td>\n",
       "      <td>-0.190757</td>\n",
       "      <td>0.017393</td>\n",
       "      <td>0.040937</td>\n",
       "      <td>0.044461</td>\n",
       "      <td>0.202870</td>\n",
       "      <td>0.385512</td>\n",
       "      <td>1.000000</td>\n",
       "      <td>-0.305885</td>\n",
       "      <td>-0.031771</td>\n",
       "    </tr>\n",
       "    <tr>\n",
       "      <td>Apakah anda pernah mengikuti program sertifikasi untuk software programmer</td>\n",
       "      <td>-0.049520</td>\n",
       "      <td>0.411805</td>\n",
       "      <td>-0.091603</td>\n",
       "      <td>-0.073674</td>\n",
       "      <td>0.020443</td>\n",
       "      <td>-0.082013</td>\n",
       "      <td>-0.241028</td>\n",
       "      <td>-0.305885</td>\n",
       "      <td>1.000000</td>\n",
       "      <td>-0.037854</td>\n",
       "    </tr>\n",
       "    <tr>\n",
       "      <td>Apakah anda setuju jika seorang Software programmer jika memiliki lebih dari satu sertifikasi maka mendapatkan gaji yang lebih besar</td>\n",
       "      <td>0.180758</td>\n",
       "      <td>0.023326</td>\n",
       "      <td>0.228788</td>\n",
       "      <td>0.216801</td>\n",
       "      <td>-0.046840</td>\n",
       "      <td>0.212947</td>\n",
       "      <td>0.071929</td>\n",
       "      <td>-0.031771</td>\n",
       "      <td>-0.037854</td>\n",
       "      <td>1.000000</td>\n",
       "    </tr>\n",
       "  </tbody>\n",
       "</table>\n",
       "</div>"
      ],
      "text/plain": [
       "                                                    Menurut anda seorang Programmer harus menguasai minimal 3 bahasa pemrograman          \\\n",
       "Menurut anda seorang Programmer harus menguasai...                                           1.000000                                      \n",
       "Apakah anda pernah mengunakan bahasa python                                                  0.043117                                      \n",
       "Bahasa pemrograman python lebih mudah untuk dig...                                           0.174263                                      \n",
       "Menurut anda,apakah Bahasa pemrograman python m...                                           0.143034                                      \n",
       "Seorang programmer boleh menggenalkan bug yang ...                                          -0.228475                                      \n",
       "Programmer tidak boleh mencuri Software khususn...                                           0.223806                                      \n",
       "Software yang dibuat secara tim dapat diperjual...                                           0.153366                                      \n",
       "Menurut anda apakah software bajakan baik untuk...                                           0.077701                                      \n",
       "Apakah anda pernah mengikuti program sertifikas...                                          -0.049520                                      \n",
       "Apakah anda setuju jika seorang Software progra...                                           0.180758                                      \n",
       "\n",
       "                                                    Apakah anda pernah mengunakan bahasa python  \\\n",
       "Menurut anda seorang Programmer harus menguasai...                                     0.043117   \n",
       "Apakah anda pernah mengunakan bahasa python                                            1.000000   \n",
       "Bahasa pemrograman python lebih mudah untuk dig...                                     0.072491   \n",
       "Menurut anda,apakah Bahasa pemrograman python m...                                     0.045088   \n",
       "Seorang programmer boleh menggenalkan bug yang ...                                     0.090044   \n",
       "Programmer tidak boleh mencuri Software khususn...                                    -0.014817   \n",
       "Software yang dibuat secara tim dapat diperjual...                                    -0.074123   \n",
       "Menurut anda apakah software bajakan baik untuk...                                    -0.190757   \n",
       "Apakah anda pernah mengikuti program sertifikas...                                     0.411805   \n",
       "Apakah anda setuju jika seorang Software progra...                                     0.023326   \n",
       "\n",
       "                                                    Bahasa pemrograman python lebih mudah untuk digunakan daripada bahasa pemrograman yang lain  \\\n",
       "Menurut anda seorang Programmer harus menguasai...                                           0.174263                                             \n",
       "Apakah anda pernah mengunakan bahasa python                                                  0.072491                                             \n",
       "Bahasa pemrograman python lebih mudah untuk dig...                                           1.000000                                             \n",
       "Menurut anda,apakah Bahasa pemrograman python m...                                           0.464015                                             \n",
       "Seorang programmer boleh menggenalkan bug yang ...                                          -0.213024                                             \n",
       "Programmer tidak boleh mencuri Software khususn...                                           0.153725                                             \n",
       "Software yang dibuat secara tim dapat diperjual...                                           0.042401                                             \n",
       "Menurut anda apakah software bajakan baik untuk...                                           0.017393                                             \n",
       "Apakah anda pernah mengikuti program sertifikas...                                          -0.091603                                             \n",
       "Apakah anda setuju jika seorang Software progra...                                           0.228788                                             \n",
       "\n",
       "                                                    Menurut anda,apakah Bahasa pemrograman python memiliki readability yang user-friendly daripada bahasa pemrograman java?  \\\n",
       "Menurut anda seorang Programmer harus menguasai...                                           0.143034                                                                         \n",
       "Apakah anda pernah mengunakan bahasa python                                                  0.045088                                                                         \n",
       "Bahasa pemrograman python lebih mudah untuk dig...                                           0.464015                                                                         \n",
       "Menurut anda,apakah Bahasa pemrograman python m...                                           1.000000                                                                         \n",
       "Seorang programmer boleh menggenalkan bug yang ...                                          -0.133933                                                                         \n",
       "Programmer tidak boleh mencuri Software khususn...                                           0.099652                                                                         \n",
       "Software yang dibuat secara tim dapat diperjual...                                          -0.034360                                                                         \n",
       "Menurut anda apakah software bajakan baik untuk...                                           0.040937                                                                         \n",
       "Apakah anda pernah mengikuti program sertifikas...                                          -0.073674                                                                         \n",
       "Apakah anda setuju jika seorang Software progra...                                           0.216801                                                                         \n",
       "\n",
       "                                                    Seorang programmer boleh menggenalkan bug yang ada di dalam software yang nantinya programmer mendapat keuntungan dalam membetulkan bug  \\\n",
       "Menurut anda seorang Programmer harus menguasai...                                          -0.228475                                                                                         \n",
       "Apakah anda pernah mengunakan bahasa python                                                  0.090044                                                                                         \n",
       "Bahasa pemrograman python lebih mudah untuk dig...                                          -0.213024                                                                                         \n",
       "Menurut anda,apakah Bahasa pemrograman python m...                                          -0.133933                                                                                         \n",
       "Seorang programmer boleh menggenalkan bug yang ...                                           1.000000                                                                                         \n",
       "Programmer tidak boleh mencuri Software khususn...                                          -0.153841                                                                                         \n",
       "Software yang dibuat secara tim dapat diperjual...                                           0.062613                                                                                         \n",
       "Menurut anda apakah software bajakan baik untuk...                                           0.044461                                                                                         \n",
       "Apakah anda pernah mengikuti program sertifikas...                                           0.020443                                                                                         \n",
       "Apakah anda setuju jika seorang Software progra...                                          -0.046840                                                                                         \n",
       "\n",
       "                                                    Programmer tidak boleh mencuri Software khususnya development tools  \\\n",
       "Menurut anda seorang Programmer harus menguasai...                                           0.223806                     \n",
       "Apakah anda pernah mengunakan bahasa python                                                 -0.014817                     \n",
       "Bahasa pemrograman python lebih mudah untuk dig...                                           0.153725                     \n",
       "Menurut anda,apakah Bahasa pemrograman python m...                                           0.099652                     \n",
       "Seorang programmer boleh menggenalkan bug yang ...                                          -0.153841                     \n",
       "Programmer tidak boleh mencuri Software khususn...                                           1.000000                     \n",
       "Software yang dibuat secara tim dapat diperjual...                                           0.192869                     \n",
       "Menurut anda apakah software bajakan baik untuk...                                           0.202870                     \n",
       "Apakah anda pernah mengikuti program sertifikas...                                          -0.082013                     \n",
       "Apakah anda setuju jika seorang Software progra...                                           0.212947                     \n",
       "\n",
       "                                                    Software yang dibuat secara tim dapat diperjual belikan tanpa memberitahukan kepada tim sebelumnya  \\\n",
       "Menurut anda seorang Programmer harus menguasai...                                           0.153366                                                    \n",
       "Apakah anda pernah mengunakan bahasa python                                                 -0.074123                                                    \n",
       "Bahasa pemrograman python lebih mudah untuk dig...                                           0.042401                                                    \n",
       "Menurut anda,apakah Bahasa pemrograman python m...                                          -0.034360                                                    \n",
       "Seorang programmer boleh menggenalkan bug yang ...                                           0.062613                                                    \n",
       "Programmer tidak boleh mencuri Software khususn...                                           0.192869                                                    \n",
       "Software yang dibuat secara tim dapat diperjual...                                           1.000000                                                    \n",
       "Menurut anda apakah software bajakan baik untuk...                                           0.385512                                                    \n",
       "Apakah anda pernah mengikuti program sertifikas...                                          -0.241028                                                    \n",
       "Apakah anda setuju jika seorang Software progra...                                           0.071929                                                    \n",
       "\n",
       "                                                    Menurut anda apakah software bajakan baik untuk digunakan?  \\\n",
       "Menurut anda seorang Programmer harus menguasai...                                           0.077701            \n",
       "Apakah anda pernah mengunakan bahasa python                                                 -0.190757            \n",
       "Bahasa pemrograman python lebih mudah untuk dig...                                           0.017393            \n",
       "Menurut anda,apakah Bahasa pemrograman python m...                                           0.040937            \n",
       "Seorang programmer boleh menggenalkan bug yang ...                                           0.044461            \n",
       "Programmer tidak boleh mencuri Software khususn...                                           0.202870            \n",
       "Software yang dibuat secara tim dapat diperjual...                                           0.385512            \n",
       "Menurut anda apakah software bajakan baik untuk...                                           1.000000            \n",
       "Apakah anda pernah mengikuti program sertifikas...                                          -0.305885            \n",
       "Apakah anda setuju jika seorang Software progra...                                          -0.031771            \n",
       "\n",
       "                                                    Apakah anda pernah mengikuti program sertifikasi untuk software programmer  \\\n",
       "Menurut anda seorang Programmer harus menguasai...                                          -0.049520                            \n",
       "Apakah anda pernah mengunakan bahasa python                                                  0.411805                            \n",
       "Bahasa pemrograman python lebih mudah untuk dig...                                          -0.091603                            \n",
       "Menurut anda,apakah Bahasa pemrograman python m...                                          -0.073674                            \n",
       "Seorang programmer boleh menggenalkan bug yang ...                                           0.020443                            \n",
       "Programmer tidak boleh mencuri Software khususn...                                          -0.082013                            \n",
       "Software yang dibuat secara tim dapat diperjual...                                          -0.241028                            \n",
       "Menurut anda apakah software bajakan baik untuk...                                          -0.305885                            \n",
       "Apakah anda pernah mengikuti program sertifikas...                                           1.000000                            \n",
       "Apakah anda setuju jika seorang Software progra...                                          -0.037854                            \n",
       "\n",
       "                                                    Apakah anda setuju jika seorang Software programmer jika memiliki lebih dari satu sertifikasi maka mendapatkan gaji yang lebih besar  \n",
       "Menurut anda seorang Programmer harus menguasai...                                           0.180758                                                                                     \n",
       "Apakah anda pernah mengunakan bahasa python                                                  0.023326                                                                                     \n",
       "Bahasa pemrograman python lebih mudah untuk dig...                                           0.228788                                                                                     \n",
       "Menurut anda,apakah Bahasa pemrograman python m...                                           0.216801                                                                                     \n",
       "Seorang programmer boleh menggenalkan bug yang ...                                          -0.046840                                                                                     \n",
       "Programmer tidak boleh mencuri Software khususn...                                           0.212947                                                                                     \n",
       "Software yang dibuat secara tim dapat diperjual...                                           0.071929                                                                                     \n",
       "Menurut anda apakah software bajakan baik untuk...                                          -0.031771                                                                                     \n",
       "Apakah anda pernah mengikuti program sertifikas...                                          -0.037854                                                                                     \n",
       "Apakah anda setuju jika seorang Software progra...                                           1.000000                                                                                     "
      ]
     },
     "execution_count": 8,
     "metadata": {},
     "output_type": "execute_result"
    }
   ],
   "source": [
    "correlations = data.corr(method =\"kendall\")\n",
    "correlations"
   ]
  },
  {
   "cell_type": "code",
   "execution_count": 9,
   "metadata": {},
   "outputs": [
    {
     "data": {
      "text/plain": [
       "<function matplotlib.pyplot.show(*args, **kw)>"
      ]
     },
     "execution_count": 9,
     "metadata": {},
     "output_type": "execute_result"
    },
    {
     "data": {
      "image/png": "[encoded data removed]",
      "text/plain": [
       "<Figure size 1440x1440 with 2 Axes>"
      ]
     },
     "metadata": {
      "needs_background": "light"
     },
     "output_type": "display_data"
    }
   ],
   "source": [
    "# correlation map\n",
    "# higher correlations are brighter\n",
    "f,ax = plt.subplots(figsize=(20,20))\n",
    "sns.heatmap(correlations, annot=True, linewidths=.5, fmt='.3f', ax=ax)\n",
    "plt.show"
   ]
  },
  {
   "cell_type": "markdown",
   "metadata": {},
   "source": [
    "Dilihat dari hasil korelasi perhitungan menggunakan metode kendall, terdapat 2 pertanyaan dengan skor paling tinggi diantara data-data lain.\n",
    "<ol>\n",
    "<li>Pertanyaan antara Apakah anda pernah mengikuti program sertifikasi untuk software programmer dengan pertanyaan Apakah anda pernah mengunakan bahasa python kedua pertanyaan ini memiliki skor 0.412 atau dapat menggunakan correlation map pertanyaan ini memiliki warna yang lebih terang dari data yang lain.</li>\n",
    "<li>Pertanyaan antara Bahasa pemrograman python lebih mudah untuk digunakan daripada bahasa pemrograman yang lain dengan pertanyaan Menurut anda,apakah Bahasa pemrograman python memiliki readability yang user-friendly daripada bahasa pemrograman java? kedua pertanyaan ini memiliki skor 0.464 atau dapat menggunakan correlation map pertanyaan ini memiliki warna yang lebih terang dari data yang lain</li>\n",
    "</ol>    \n",
    "    \n",
    "   Dari hasil yang di dapatkan kami simpulkan bahwa :\n",
    "    <ul>\n",
    "        <li>Hasil pertama memiliki korelasi bahwa dalam program sertifikasi software programmer membutuhkan bahasa pemrograman python dalam materinya.</li>\n",
    "        <li>Hasil Kedua memiliki korelasi bahwa bahasa pemrograman python sangat mudah digunakan dengan tampilan yang user friendly dibandingkan bahasa pemrograman lainnya.</li>\n",
    "    </ul>"
   ]
  },
  {
   "cell_type": "markdown",
   "metadata": {},
   "source": [
    "# MENGUJI DATA SURVEY\n",
    "Membuat uji data dengan test Alpha cronbach, T-test, dan Principal Component Analysis (PCA) menggunakan bahasa R"
   ]
  },
  {
   "cell_type": "markdown",
   "metadata": {},
   "source": [
    "## 1. Uji data menggunakan test Alpha Cronbach"
   ]
  },
  {
   "cell_type": "code",
   "execution_count": 5,
   "metadata": {},
   "outputs": [
    {
     "name": "stderr",
     "output_type": "stream",
     "text": [
      "Warning message in alpha(mydata):\n",
      "\"Some items were negatively correlated with the total scale and probably \n",
      "should be reversed.  \n",
      "To do this, run the function again with the 'check.keys=TRUE' option\""
     ]
    },
    {
     "name": "stdout",
     "output_type": "stream",
     "text": [
      "Some items ( Q2 Q5 Q9 ) were negatively correlated with the total scale and \n",
      "probably should be reversed.  \n",
      "To do this, run the function again with the 'check.keys=TRUE' option"
     ]
    },
    {
     "data": {
      "text/plain": [
       "\n",
       "Reliability analysis   \n",
       "Call: alpha(x = mydata)\n",
       "\n",
       "  raw_alpha std.alpha G6(smc) average_r  S/N   ase mean  sd median_r\n",
       "      0.32      0.33    0.46     0.046 0.48 0.045  3.1 0.4    0.036\n",
       "\n",
       " lower alpha upper     95% confidence boundaries\n",
       "0.23 0.32 0.4 \n",
       "\n",
       " Reliability if an item is dropped:\n",
       "    raw_alpha std.alpha G6(smc) average_r  S/N alpha se var.r med.r\n",
       "Q1       0.24      0.25    0.41     0.036 0.34    0.051 0.040 0.018\n",
       "Q2       0.32      0.32    0.44     0.049 0.46    0.045 0.038 0.039\n",
       "Q3       0.21      0.20    0.35     0.028 0.26    0.053 0.035 0.018\n",
       "Q4       0.23      0.23    0.37     0.032 0.30    0.051 0.037 0.025\n",
       "Q5       0.42      0.43    0.52     0.076 0.74    0.039 0.038 0.047\n",
       "Q6       0.24      0.25    0.40     0.035 0.33    0.051 0.041 0.018\n",
       "Q7       0.29      0.31    0.43     0.048 0.45    0.047 0.036 0.018\n",
       "Q8       0.32      0.34    0.44     0.054 0.51    0.045 0.033 0.039\n",
       "Q9       0.39      0.40    0.49     0.070 0.68    0.040 0.031 0.069\n",
       "Q10      0.22      0.22    0.38     0.031 0.29    0.052 0.040 0.031\n",
       "\n",
       " Item statistics \n",
       "      n raw.r std.r  r.cor r.drop mean   sd\n",
       "Q1  502  0.48 0.469  0.361  0.218  3.6 1.14\n",
       "Q2  502  0.33 0.346  0.216  0.066  1.6 1.08\n",
       "Q3  502  0.52 0.550  0.538  0.307  3.3 1.00\n",
       "Q4  502  0.47 0.508  0.460  0.257  3.4 0.95\n",
       "Q5  502  0.10 0.087 -0.204 -0.169  2.8 1.08\n",
       "Q6  502  0.48 0.477  0.373  0.236  3.8 1.06\n",
       "Q7  502  0.40 0.356  0.236  0.115  3.6 1.19\n",
       "Q8  502  0.34 0.300  0.173  0.058  3.5 1.14\n",
       "Q9  502  0.12 0.145 -0.055 -0.134  1.5 1.00\n",
       "Q10 502  0.50 0.522  0.453  0.275  3.7 1.02\n",
       "\n",
       "Non missing response frequency for each item\n",
       "       1    2    3    4    5 miss\n",
       "Q1  0.09 0.09 0.16 0.48 0.18    0\n",
       "Q2  0.69 0.10 0.11 0.07 0.02    0\n",
       "Q3  0.06 0.14 0.34 0.38 0.07    0\n",
       "Q4  0.04 0.12 0.33 0.42 0.10    0\n",
       "Q5  0.07 0.40 0.27 0.17 0.09    0\n",
       "Q6  0.04 0.09 0.16 0.46 0.25    0\n",
       "Q7  0.06 0.15 0.15 0.39 0.24    0\n",
       "Q8  0.07 0.14 0.20 0.41 0.19    0\n",
       "Q9  0.74 0.08 0.10 0.07 0.01    0\n",
       "Q10 0.04 0.09 0.20 0.45 0.22    0"
      ]
     },
     "metadata": {},
     "output_type": "display_data"
    }
   ],
   "source": [
    "alpha(mydata)"
   ]
  },
  {
   "cell_type": "markdown",
   "metadata": {},
   "source": [
    "Keterangan =\n",
    "<ul>\n",
    "    <li>Q1  = Menurut anda seorang Programmer harus menguasai minimal 3 bahasa pemrograman</li>\n",
    "    <li>Q2  = Apakah anda pernah mengunakan bahasa python</li>\n",
    "    <li>Q3  = Bahasa pemrograman python lebih mudah untuk digunakan daripada bahasa pemrograman yang lain</li>\n",
    "    <li>Q4  = Menurut anda,apakah Bahasa pemrograman python memiliki readability yang user-friendly daripada bahasa pemrograman java?</li>\n",
    "    <li>Q5  = Seorang programmer boleh menggenalkan bug yang ada di dalam software yang nantinya programmer mendapat keuntungan dalam membetulkan bug</li>\n",
    "    <li>Q6  = Programmer tidak boleh mencuri Software khususnya development tools</li>\n",
    "    <li>Q7  = Software yang dibuat secara tim dapat diperjual belikan tanpa memberitahukan kepada tim sebelumnya</li>\n",
    "    <li>Q8  = Menurut anda apakah software bajakan baik untuk digunakan?</li>\n",
    "    <li>Q9  = Apakah anda pernah mengikuti program sertifikasi untuk software programmer</li>\n",
    "    <li>Q10 = Apakah anda setuju jika seorang Software programmer jika memiliki lebih dari satu sertifikasi maka mendapatkan gaji yang lebih besar</li>"
   ]
  },
  {
   "cell_type": "markdown",
   "metadata": {},
   "source": [
    "#### Di lihat dari hasil Analisis Reabilitas perhitungan menggunakan Alpha cronbach, terdapat nilai konsistensi pada item yang telah dinyatakan valid antara lain :\n",
    "<ol>\n",
    "    <li>Nilai reabilitas sebesar 0,32 atau 32%</li>\n",
    "    <li>Dengan standart reabilitas 0,33 atau 33%</li>\n",
    "    <li>Nilai reabilitas Rata rata  sebesar 0,046</li> \n",
    "    <li>Nilai rebilitas pada masing masing item jika pada setiap pertanyaan dihilangkan :</li>\n",
    "      <ul>\n",
    "          <li>Nilai reabilitas pada Q1 sebesar 0,24, standar reabilitas 0,25 dengan rata-rata 0,036</li>\n",
    "          <li>Nilai reabilitas pada Q2 sebesar 0,32, standar reabilitas 0,32 dengan rata-rata 0,049</li>\n",
    "          <li>Nilai reabilitas pada Q3 sebesar 0,21, standar reabilitas 0,20 dengan rata-rata 0,028</li>\n",
    "          <li>Nilai reabilitas pada Q4 sebesar 0,23, standar reabilitas 0,23 dengan rata-rata 0,032</li>\n",
    "          <li>Nilai reabilitas pada Q5 sebesar 0,42, standar reabilitas 0,43 dengan rata-rata 0,076</li>\n",
    "          <li>Nilai reabilitas pada Q6 sebesar 0,24, standar reabilitas 0,25 dengan rata-rata 0,035</li>\n",
    "          <li>Nilai reabilitas pada Q7 sebesar 0,29, standar reabilitas 0,31 dengan rata-rata 0,048</li>\n",
    "          <li>Nilai reabilitas pada Q8 sebesar 0,32, standar reabilitas 0,34 dengan rata-rata 0,054</li>\n",
    "          <li>Nilai reabilitas pada Q9 sebesar 0,39, standar reabilitas 0,40 dengan rata-rata 0,070</li>\n",
    "          <li>Nilai reabilitas pada X10 sebesar 0,22, standar reabilitas 0,22 dengan rata-rata 0,031</li>\n",
    "          <br>\n",
    "      </ul>\n",
    "    <li>Nilai rebilitas pada masing masing item statistik :</li>\n",
    "      <ul>\n",
    "          <li>Nilai reabilitas pada Q1 sebesar 0,48 dan standar reabilitas 0,469</li>\n",
    "          <li>Nilai reabilitas pada Q2 sebesar 0,33 dan standar reabilitas 0,346</li>\n",
    "          <li>Nilai reabilitas pada Q3 sebesar 0,52 dan standar reabilitas 0,550</li>\n",
    "          <li>Nilai reabilitas pada Q4 sebesar 0,47 dan standar reabilitas 0,508</li>\n",
    "          <li>Nilai reabilitas pada Q5 sebesar 0,10 dan standar reabilitas 0,087</li>\n",
    "          <li>Nilai reabilitas pada Q6 sebesar 0,48 dan standar reabilitas 0,447</li>\n",
    "          <li>Nilai reabilitas pada Q7 sebesar 0,40 dan standar reabilitas 0,356</li>\n",
    "          <li>Nilai reabilitas pada Q8 sebesar 0,34 dan standar reabilitas 0,300</li>\n",
    "          <li>Nilai reabilitas pada Q9 sebesar 0,12 dan standar reabilitas 0,145</li>\n",
    "          <li>Nilai reabilitas pada X10 sebesar 0,50 dan standar reabilitas 0,522</li>\n",
    "      </ul>\n",
    "</ol>\n",
    "\n",
    "\n",
    "            \n"
   ]
  },
  {
   "cell_type": "markdown",
   "metadata": {},
   "source": [
    "## 2. Uji data menggunakan T-test"
   ]
  },
  {
   "cell_type": "code",
   "execution_count": 8,
   "metadata": {},
   "outputs": [
    {
     "data": {
      "text/plain": [
       "\n",
       "\tPaired t-test\n",
       "\n",
       "data:  Q1 and Q2\n",
       "t = 27.771, df = 501, p-value < 2.2e-16\n",
       "alternative hypothesis: true difference in means is not equal to 0\n",
       "99 percent confidence interval:\n",
       " 1.757785 2.118710\n",
       "sample estimates:\n",
       "mean of the differences \n",
       "               1.938247 \n"
      ]
     },
     "metadata": {},
     "output_type": "display_data"
    }
   ],
   "source": [
    "t.test(Q1, Q2, mu=0, alt=\"two.sided\", paired=T, conf.level=0.99)"
   ]
  },
  {
   "cell_type": "markdown",
   "metadata": {},
   "source": [
    "###### Pada data paired T-test Q1 dan Q2 dapat disimpulkan bahwa rata” pada kedua sample ialah  1.938 , dari rata” perbedaan kedua sample besar dari 501 sampel ukuran (df) yang menghasilkan nilai t = 27.771 yang secara statistic nilai p < 2.2e-16."
   ]
  },
  {
   "cell_type": "code",
   "execution_count": 9,
   "metadata": {},
   "outputs": [
    {
     "data": {
      "text/plain": [
       "\n",
       "\tPaired t-test\n",
       "\n",
       "data:  Q1 and Q3\n",
       "t = 5.1468, df = 501, p-value = 3.811e-07\n",
       "alternative hypothesis: true difference in means is not equal to 0\n",
       "99 percent confidence interval:\n",
       " 0.1536470 0.4638829\n",
       "sample estimates:\n",
       "mean of the differences \n",
       "              0.3087649 \n"
      ]
     },
     "metadata": {},
     "output_type": "display_data"
    }
   ],
   "source": [
    "t.test(Q1, Q3, mu=0, alt=\"two.sided\", paired=T, conf.level=0.99)"
   ]
  },
  {
   "cell_type": "markdown",
   "metadata": {},
   "source": [
    "###### Pada data paired T-test Q1 dan Q3 dapat disimpulkan bahwa perbedaan rata” pada kedua sample ialah  0.309 , dari rata” perbedaan kedua sample besar dari 501 sampel ukuran (df) yang menghasilkan nilai t = 5.147 yang secara statistic nilai p = 3.811e-07. "
   ]
  },
  {
   "cell_type": "code",
   "execution_count": 10,
   "metadata": {},
   "outputs": [
    {
     "data": {
      "text/plain": [
       "\n",
       "\tPaired t-test\n",
       "\n",
       "data:  Q1 and Q4\n",
       "t = 2.6831, df = 501, p-value = 0.007536\n",
       "alternative hypothesis: true difference in means is not equal to 0\n",
       "99 percent confidence interval:\n",
       " 0.005785268 0.312939832\n",
       "sample estimates:\n",
       "mean of the differences \n",
       "              0.1593625 \n"
      ]
     },
     "metadata": {},
     "output_type": "display_data"
    }
   ],
   "source": [
    "t.test(Q1, Q4, mu=0, alt=\"two.sided\", paired=T, conf.level=0.99)"
   ]
  },
  {
   "cell_type": "markdown",
   "metadata": {},
   "source": [
    "###### Pada data paired T-test Q1 dan Q4 dapat disimpulkan bahwa perbedaan rata” pada kedua sample ialah   0.159, dari rata” perbedaan kedua sample besar dari 501 sampel ukuran (df) yang menghasilkan nilai t = 2.683 yang secara statistic nilai p = 0.008."
   ]
  },
  {
   "cell_type": "code",
   "execution_count": 11,
   "metadata": {},
   "outputs": [
    {
     "data": {
      "text/plain": [
       "\n",
       "\tPaired t-test\n",
       "\n",
       "data:  Q1 and Q5\n",
       "t = 9.718, df = 501, p-value < 2.2e-16\n",
       "alternative hypothesis: true difference in means is not equal to 0\n",
       "99 percent confidence interval:\n",
       " 0.5614123 0.9684682\n",
       "sample estimates:\n",
       "mean of the differences \n",
       "              0.7649402 \n"
      ]
     },
     "metadata": {},
     "output_type": "display_data"
    }
   ],
   "source": [
    "t.test(Q1, Q5, mu=0, alt=\"two.sided\", paired=T, conf.level=0.99)"
   ]
  },
  {
   "cell_type": "markdown",
   "metadata": {},
   "source": [
    "###### Pada data paired T-test Q1 dan Q5 dapat disimpulkan bahwa perbedaan rata” pada kedua sample ialah      0.765, dari rata” perbedaan kedua sample besar dari 501 sampel ukuran (df) yang menghasilkan nilai t =  9.718 yang secara statistic nilai p < 2.2e-16. "
   ]
  },
  {
   "cell_type": "code",
   "execution_count": 12,
   "metadata": {},
   "outputs": [
    {
     "data": {
      "text/plain": [
       "\n",
       "\tPaired t-test\n",
       "\n",
       "data:  Q1 and Q6\n",
       "t = -3.1453, df = 501, p-value = 0.001758\n",
       "alternative hypothesis: true difference in means is not equal to 0\n",
       "99 percent confidence interval:\n",
       " -0.35570475 -0.03473349\n",
       "sample estimates:\n",
       "mean of the differences \n",
       "             -0.1952191 \n"
      ]
     },
     "metadata": {},
     "output_type": "display_data"
    }
   ],
   "source": [
    "t.test(Q1, Q6, mu=0, alt=\"two.sided\", paired=T, conf.level=0.99)"
   ]
  },
  {
   "cell_type": "markdown",
   "metadata": {},
   "source": [
    "###### Pada data paired T-test Q1 dan Q6 dapat disimpulkan bahwa perbedaan rata” pada kedua sample ialah   -0.195, dari rata” perbedaan kedua sample besar dari 501 sampel ukuran (df) yang menghasilkan nilai t = -3.145 yang secara statistic nilai p = 0.002. "
   ]
  },
  {
   "cell_type": "code",
   "execution_count": 13,
   "metadata": {},
   "outputs": [
    {
     "data": {
      "text/plain": [
       "\n",
       "\tPaired t-test\n",
       "\n",
       "data:  Q1 and Q7\n",
       "t = -0.34727, df = 501, p-value = 0.7285\n",
       "alternative hypothesis: true difference in means is not equal to 0\n",
       "99 percent confidence interval:\n",
       " -0.2018919  0.1540832\n",
       "sample estimates:\n",
       "mean of the differences \n",
       "            -0.02390438 \n"
      ]
     },
     "metadata": {},
     "output_type": "display_data"
    }
   ],
   "source": [
    "t.test(Q1, Q7, mu=0, alt=\"two.sided\", paired=T, conf.level=0.99)"
   ]
  },
  {
   "cell_type": "markdown",
   "metadata": {},
   "source": [
    "###### Pada data paired T-test Q1 dan Q7 dapat disimpulkan bahwa perbedaan rata” pada kedua sample ialah   -0.024, dari rata” perbedaan kedua sample besar dari 501 sampel ukuran (df) yang menghasilkan nilai t = -0.347 yang secara statistic nilai p = 0.729. "
   ]
  },
  {
   "cell_type": "code",
   "execution_count": 14,
   "metadata": {},
   "outputs": [
    {
     "data": {
      "text/plain": [
       "\n",
       "\tPaired t-test\n",
       "\n",
       "data:  Q1 and Q8\n",
       "t = 0.8877, df = 501, p-value = 0.3751\n",
       "alternative hypothesis: true difference in means is not equal to 0\n",
       "99 percent confidence interval:\n",
       " -0.1181193  0.2416253\n",
       "sample estimates:\n",
       "mean of the differences \n",
       "             0.06175299 \n"
      ]
     },
     "metadata": {},
     "output_type": "display_data"
    }
   ],
   "source": [
    "t.test(Q1, Q8, mu=0, alt=\"two.sided\", paired=T, conf.level=0.99)"
   ]
  },
  {
   "cell_type": "markdown",
   "metadata": {},
   "source": [
    "###### Pada data paired T-test Q1 dan Q8 dapat disimpulkan bahwa perbedaan rata” pada kedua sample ialah   0.062, dari rata” perbedaan kedua sample besar dari 501 sampel ukuran (df) yang menghasilkan nilai t =  0.888 yang secara statistic nilai p = 0.375. "
   ]
  },
  {
   "cell_type": "code",
   "execution_count": 15,
   "metadata": {},
   "outputs": [
    {
     "data": {
      "text/plain": [
       "\n",
       "\tPaired t-test\n",
       "\n",
       "data:  Q1 and Q9\n",
       "t = 29.586, df = 501, p-value < 2.2e-16\n",
       "alternative hypothesis: true difference in means is not equal to 0\n",
       "99 percent confidence interval:\n",
       " 1.868843 2.226775\n",
       "sample estimates:\n",
       "mean of the differences \n",
       "               2.047809 \n"
      ]
     },
     "metadata": {},
     "output_type": "display_data"
    }
   ],
   "source": [
    "t.test(Q1, Q9, mu=0, alt=\"two.sided\", paired=T, conf.level=0.99)"
   ]
  },
  {
   "cell_type": "markdown",
   "metadata": {},
   "source": [
    "###### Pada data paired T-test Q1 dan Q9 dapat disimpulkan bahwa perbedaan rata” pada kedua sample ialah   2.048, dari rata” perbedaan kedua sample besar dari 501 sampel ukuran (df) yang menghasilkan nilai t =  29.586 yang secara statistic nilai p < 2.2e-16. "
   ]
  },
  {
   "cell_type": "code",
   "execution_count": 16,
   "metadata": {},
   "outputs": [
    {
     "data": {
      "text/plain": [
       "\n",
       "\tPaired t-test\n",
       "\n",
       "data:  Q1 and Q10\n",
       "t = -2.5653, df = 501, p-value = 0.0106\n",
       "alternative hypothesis: true difference in means is not equal to 0\n",
       "99 percent confidence interval:\n",
       " -0.307993500  0.001220591\n",
       "sample estimates:\n",
       "mean of the differences \n",
       "             -0.1533865 \n"
      ]
     },
     "metadata": {},
     "output_type": "display_data"
    }
   ],
   "source": [
    "t.test(Q1, Q10, mu=0, alt=\"two.sided\", paired=T, conf.level=0.99)"
   ]
  },
  {
   "cell_type": "markdown",
   "metadata": {},
   "source": [
    "###### Pada data paired T-test Q1 dan Q10 dapat disimpulkan bahwa perbedaan rata” pada kedua sample ialah   -0.153, dari rata” perbedaan kedua sample besar dari 501 sampel ukuran (df) yang menghasilkan nilai t =  -2.565 yang secara statistic nilai p = 0.011. "
   ]
  },
  {
   "cell_type": "code",
   "execution_count": 17,
   "metadata": {},
   "outputs": [
    {
     "data": {
      "text/plain": [
       "\n",
       "\tPaired t-test\n",
       "\n",
       "data:  Q2 and Q3\n",
       "t = -26.36, df = 501, p-value < 2.2e-16\n",
       "alternative hypothesis: true difference in means is not equal to 0\n",
       "99 percent confidence interval:\n",
       " -1.789322 -1.469642\n",
       "sample estimates:\n",
       "mean of the differences \n",
       "              -1.629482 \n"
      ]
     },
     "metadata": {},
     "output_type": "display_data"
    }
   ],
   "source": [
    "t.test(Q2, Q3, mu=0, alt=\"two.sided\", paired=T, conf.level=0.99)"
   ]
  },
  {
   "cell_type": "markdown",
   "metadata": {},
   "source": [
    "###### Pada data paired T-test Q2 dan Q3 dapat disimpulkan bahwa perbedaan rata” pada kedua sample ialah   -1.629, dari rata” perbedaan kedua sample besar dari 501 sampel ukuran (df) yang menghasilkan nilai t = -26.36 yang secara statistic nilai p < 2.2e-16. "
   ]
  },
  {
   "cell_type": "code",
   "execution_count": 18,
   "metadata": {},
   "outputs": [
    {
     "data": {
      "text/plain": [
       "\n",
       "\tPaired t-test\n",
       "\n",
       "data:  Q2 and Q4\n",
       "t = -28.433, df = 501, p-value < 2.2e-16\n",
       "alternative hypothesis: true difference in means is not equal to 0\n",
       "99 percent confidence interval:\n",
       " -1.940656 -1.617113\n",
       "sample estimates:\n",
       "mean of the differences \n",
       "              -1.778884 \n"
      ]
     },
     "metadata": {},
     "output_type": "display_data"
    }
   ],
   "source": [
    "t.test(Q2, Q4, mu=0, alt=\"two.sided\", paired=T, conf.level=0.99)"
   ]
  },
  {
   "cell_type": "markdown",
   "metadata": {},
   "source": [
    "###### Pada data paired T-test Q2 dan Q4 dapat disimpulkan bahwa perbedaan rata” pada kedua sample ialah   -1.779, dari rata” perbedaan kedua sample besar dari 501 sampel ukuran (df) yang menghasilkan nilai t = -28.433 yang secara statistic nilai p < 2.2e-16. "
   ]
  },
  {
   "cell_type": "code",
   "execution_count": 19,
   "metadata": {},
   "outputs": [
    {
     "data": {
      "text/plain": [
       "\n",
       "\tPaired t-test\n",
       "\n",
       "data:  Q2 and Q5\n",
       "t = -17.856, df = 501, p-value < 2.2e-16\n",
       "alternative hypothesis: true difference in means is not equal to 0\n",
       "99 percent confidence interval:\n",
       " -1.343211 -1.003403\n",
       "sample estimates:\n",
       "mean of the differences \n",
       "              -1.173307 \n"
      ]
     },
     "metadata": {},
     "output_type": "display_data"
    }
   ],
   "source": [
    "t.test(Q2, Q5, mu=0, alt=\"two.sided\", paired=T, conf.level=0.99)"
   ]
  },
  {
   "cell_type": "markdown",
   "metadata": {},
   "source": [
    "###### Pada data paired T-test Q2 dan Q5 dapat disimpulkan bahwa perbedaan rata” pada kedua sample ialah   -1.173, dari rata” perbedaan kedua sample besar dari 501 sampel ukuran (df) yang menghasilkan nilai t = -17.856 yang secara statistic nilai p < 2.2e-16. "
   ]
  },
  {
   "cell_type": "code",
   "execution_count": 20,
   "metadata": {},
   "outputs": [
    {
     "data": {
      "text/plain": [
       "\n",
       "\tPaired t-test\n",
       "\n",
       "data:  Q2 and Q6\n",
       "t = -31.094, df = 501, p-value < 2.2e-16\n",
       "alternative hypothesis: true difference in means is not equal to 0\n",
       "99 percent confidence interval:\n",
       " -2.310881 -1.956051\n",
       "sample estimates:\n",
       "mean of the differences \n",
       "              -2.133466 \n"
      ]
     },
     "metadata": {},
     "output_type": "display_data"
    }
   ],
   "source": [
    "t.test(Q2, Q6, mu=0, alt=\"two.sided\", paired=T, conf.level=0.99)"
   ]
  },
  {
   "cell_type": "markdown",
   "metadata": {},
   "source": [
    "###### Pada data paired T-test Q2 dan Q6 dapat disimpulkan bahwa perbedaan rata” pada kedua sample ialah   -2.133, dari rata” perbedaan kedua sample besar dari 501 sampel ukuran (df) yang menghasilkan nilai t = -31.094 yang secara statistic nilai p < 2.2e-16. "
   ]
  },
  {
   "cell_type": "code",
   "execution_count": 21,
   "metadata": {},
   "outputs": [
    {
     "data": {
      "text/plain": [
       "\n",
       "\tPaired t-test\n",
       "\n",
       "data:  Q2 and Q7\n",
       "t = -25.75, df = 501, p-value < 2.2e-16\n",
       "alternative hypothesis: true difference in means is not equal to 0\n",
       "99 percent confidence interval:\n",
       " -2.159177 -1.765126\n",
       "sample estimates:\n",
       "mean of the differences \n",
       "              -1.962151 \n"
      ]
     },
     "metadata": {},
     "output_type": "display_data"
    }
   ],
   "source": [
    "t.test(Q2, Q7, mu=0, alt=\"two.sided\", paired=T, conf.level=0.99)"
   ]
  },
  {
   "cell_type": "markdown",
   "metadata": {},
   "source": [
    "###### Pada data paired T-test Q2 dan Q7 dapat disimpulkan bahwa perbedaan rata” pada kedua sample ialah   -1.962, dari rata” perbedaan kedua sample besar dari 501 sampel ukuran (df) yang menghasilkan nilai t = -25.75 yang secara statistic nilai p = 2.2e-16. "
   ]
  },
  {
   "cell_type": "code",
   "execution_count": 22,
   "metadata": {},
   "outputs": [
    {
     "data": {
      "text/plain": [
       "\n",
       "\tPaired t-test\n",
       "\n",
       "data:  Q2 and Q8\n",
       "t = -24.056, df = 501, p-value < 2.2e-16\n",
       "alternative hypothesis: true difference in means is not equal to 0\n",
       "99 percent confidence interval:\n",
       " -2.078190 -1.674798\n",
       "sample estimates:\n",
       "mean of the differences \n",
       "              -1.876494 \n"
      ]
     },
     "metadata": {},
     "output_type": "display_data"
    }
   ],
   "source": [
    "t.test(Q2, Q8, mu=0, alt=\"two.sided\", paired=T, conf.level=0.99)"
   ]
  },
  {
   "cell_type": "markdown",
   "metadata": {},
   "source": [
    "###### Pada data paired T-test Q2 dan Q8 dapat disimpulkan bahwa perbedaan rata” pada kedua sample ialah   -1.876, dari rata” perbedaan kedua sample besar dari 501 sampel ukuran (df) yang menghasilkan nilai t = -24.056 yang secara statistic nilai p < 2.2e-16. "
   ]
  },
  {
   "cell_type": "code",
   "execution_count": 23,
   "metadata": {},
   "outputs": [
    {
     "data": {
      "text/plain": [
       "\n",
       "\tPaired t-test\n",
       "\n",
       "data:  Q2 and Q9\n",
       "t = 2.2488, df = 501, p-value = 0.02496\n",
       "alternative hypothesis: true difference in means is not equal to 0\n",
       "99 percent confidence interval:\n",
       " -0.01641241  0.23553591\n",
       "sample estimates:\n",
       "mean of the differences \n",
       "              0.1095618 \n"
      ]
     },
     "metadata": {},
     "output_type": "display_data"
    }
   ],
   "source": [
    "t.test(Q2, Q9, mu=0, alt=\"two.sided\", paired=T, conf.level=0.99)"
   ]
  },
  {
   "cell_type": "markdown",
   "metadata": {},
   "source": [
    "###### Pada data paired T-test Q2 dan Q9 dapat disimpulkan bahwa perbedaan rata” pada kedua sample ialah   0.11, dari rata” perbedaan kedua sample besar dari 501 sampel ukuran (df) yang menghasilkan nilai t = 2.249 yang secara statistic nilai p = 0.025. "
   ]
  },
  {
   "cell_type": "code",
   "execution_count": 24,
   "metadata": {},
   "outputs": [
    {
     "data": {
      "text/plain": [
       "\n",
       "\tPaired t-test\n",
       "\n",
       "data:  Q2 and Q10\n",
       "t = -31.746, df = 501, p-value < 2.2e-16\n",
       "alternative hypothesis: true difference in means is not equal to 0\n",
       "99 percent confidence interval:\n",
       " -2.261995 -1.921272\n",
       "sample estimates:\n",
       "mean of the differences \n",
       "              -2.091633 \n"
      ]
     },
     "metadata": {},
     "output_type": "display_data"
    }
   ],
   "source": [
    "t.test(Q2, Q10, mu=0, alt=\"two.sided\", paired=T, conf.level=0.99)"
   ]
  },
  {
   "cell_type": "markdown",
   "metadata": {},
   "source": [
    "###### Pada data paired T-test Q2 dan Q10 dapat disimpulkan bahwa perbedaan rata” pada kedua sample ialah   -2.092, dari rata” perbedaan kedua sample besar dari 501 sampel ukuran (df) yang menghasilkan nilai t = -31.746 yang secara statistic nilai p < 2.2e-16."
   ]
  },
  {
   "cell_type": "code",
   "execution_count": 27,
   "metadata": {},
   "outputs": [
    {
     "data": {
      "text/plain": [
       "\n",
       "\tPaired t-test\n",
       "\n",
       "data:  Q3 and Q4\n",
       "t = -3.3249, df = 501, p-value = 0.0009492\n",
       "alternative hypothesis: true difference in means is not equal to 0\n",
       "99 percent confidence interval:\n",
       " -0.26558680 -0.03321798\n",
       "sample estimates:\n",
       "mean of the differences \n",
       "             -0.1494024 \n"
      ]
     },
     "metadata": {},
     "output_type": "display_data"
    }
   ],
   "source": [
    "t.test(Q3, Q4, mu=0, alt=\"two.sided\", paired=T, conf.level=0.99)"
   ]
  },
  {
   "cell_type": "markdown",
   "metadata": {},
   "source": [
    "###### Pada data paired T-test Q3 dan Q4 dapat disimpulkan bahwa perbedaan rata” pada kedua sample ialah   -0.149, dari rata” perbedaan kedua sample besar dari 501 sampel ukuran (df) yang menghasilkan nilai t = -3.325 yang secara statistic nilai p = 0.001"
   ]
  },
  {
   "cell_type": "code",
   "execution_count": 29,
   "metadata": {},
   "outputs": [
    {
     "data": {
      "text/plain": [
       "\n",
       "\tPaired t-test\n",
       "\n",
       "data:  Q3 and Q5\n",
       "t = 6.2907, df = 501, p-value = 6.896e-10\n",
       "alternative hypothesis: true difference in means is not equal to 0\n",
       "99 percent confidence interval:\n",
       " 0.2686726 0.6436780\n",
       "sample estimates:\n",
       "mean of the differences \n",
       "              0.4561753 \n"
      ]
     },
     "metadata": {},
     "output_type": "display_data"
    }
   ],
   "source": [
    "t.test(Q3, Q5, mu=0, alt=\"two.sided\", paired=T, conf.level=0.99)"
   ]
  },
  {
   "cell_type": "markdown",
   "metadata": {},
   "source": [
    "###### Pada data paired T-test Q3 dan Q5 dapat disimpulkan bahwa perbedaan rata” pada kedua sample ialah   0.456, dari rata” perbedaan kedua sample besar dari 501 sampel ukuran (df) yang menghasilkan nilai t = 6.291 yang secara statistic nilai p = 6.896e-10."
   ]
  },
  {
   "cell_type": "code",
   "execution_count": 30,
   "metadata": {},
   "outputs": [
    {
     "data": {
      "text/plain": [
       "\n",
       "\tPaired t-test\n",
       "\n",
       "data:  Q3 and Q6\n",
       "t = -8.7129, df = 501, p-value < 2.2e-16\n",
       "alternative hypothesis: true difference in means is not equal to 0\n",
       "99 percent confidence interval:\n",
       " -0.6535486 -0.3544195\n",
       "sample estimates:\n",
       "mean of the differences \n",
       "             -0.5039841 \n"
      ]
     },
     "metadata": {},
     "output_type": "display_data"
    }
   ],
   "source": [
    "t.test(Q3, Q6, mu=0, alt=\"two.sided\", paired=T, conf.level=0.99)"
   ]
  },
  {
   "cell_type": "markdown",
   "metadata": {},
   "source": [
    "###### Pada data paired T-test Q3 dan Q6 dapat disimpulkan bahwa perbedaan rata” pada kedua sample ialah   -0.504, dari rata” perbedaan kedua sample besar dari 501 sampel ukuran (df) yang menghasilkan nilai t = -8.713 yang secara statistic nilai p < 2.2e-16. "
   ]
  },
  {
   "cell_type": "code",
   "execution_count": 31,
   "metadata": {},
   "outputs": [
    {
     "data": {
      "text/plain": [
       "\n",
       "\tPaired t-test\n",
       "\n",
       "data:  Q3 and Q7\n",
       "t = -4.9123, df = 501, p-value = 1.221e-06\n",
       "alternative hypothesis: true difference in means is not equal to 0\n",
       "99 percent confidence interval:\n",
       " -0.5077757 -0.1575629\n",
       "sample estimates:\n",
       "mean of the differences \n",
       "             -0.3326693 \n"
      ]
     },
     "metadata": {},
     "output_type": "display_data"
    }
   ],
   "source": [
    "t.test(Q3, Q7, mu=0, alt=\"two.sided\", paired=T, conf.level=0.99)"
   ]
  },
  {
   "cell_type": "markdown",
   "metadata": {},
   "source": [
    "###### Pada data paired T-test Q3 dan Q7 dapat disimpulkan bahwa perbedaan rata” pada kedua sample ialah   -0.333, dari rata” perbedaan kedua sample besar dari 501 sampel ukuran (df) yang menghasilkan nilai t = -4.912 yang secara statistic nilai p = 1.221e-06. "
   ]
  },
  {
   "cell_type": "code",
   "execution_count": 32,
   "metadata": {},
   "outputs": [
    {
     "data": {
      "text/plain": [
       "\n",
       "\tPaired t-test\n",
       "\n",
       "data:  Q3 and Q8\n",
       "t = -3.6667, df = 501, p-value = 0.000272\n",
       "alternative hypothesis: true difference in means is not equal to 0\n",
       "99 percent confidence interval:\n",
       " -0.42119948 -0.07282442\n",
       "sample estimates:\n",
       "mean of the differences \n",
       "              -0.247012 \n"
      ]
     },
     "metadata": {},
     "output_type": "display_data"
    }
   ],
   "source": [
    "t.test(Q3, Q8, mu=0, alt=\"two.sided\", paired=T, conf.level=0.99)"
   ]
  },
  {
   "cell_type": "markdown",
   "metadata": {},
   "source": [
    "###### Pada data paired T-test Q3 dan Q8 dapat disimpulkan bahwa perbedaan rata” pada kedua sample ialah   -0.247, dari rata” perbedaan kedua sample besar dari 501 sampel ukuran (df) yang menghasilkan nilai t = -3.667 yang secara statistic nilai p = 0.0003. "
   ]
  },
  {
   "cell_type": "code",
   "execution_count": 33,
   "metadata": {},
   "outputs": [
    {
     "data": {
      "text/plain": [
       "\n",
       "\tPaired t-test\n",
       "\n",
       "data:  Q3 and Q9\n",
       "t = 26.828, df = 501, p-value < 2.2e-16\n",
       "alternative hypothesis: true difference in means is not equal to 0\n",
       "99 percent confidence interval:\n",
       " 1.571433 1.906655\n",
       "sample estimates:\n",
       "mean of the differences \n",
       "               1.739044 \n"
      ]
     },
     "metadata": {},
     "output_type": "display_data"
    }
   ],
   "source": [
    "t.test(Q3, Q9, mu=0, alt=\"two.sided\", paired=T, conf.level=0.99)"
   ]
  },
  {
   "cell_type": "markdown",
   "metadata": {},
   "source": [
    "###### Pada data paired T-test Q3 dan Q9 dapat disimpulkan bahwa perbedaan rata” pada kedua sample ialah   1.739, dari rata” perbedaan kedua sample besar dari 501 sampel ukuran (df) yang menghasilkan nilai t = 26.828 yang secara statistic nilai p < 2.2e-16."
   ]
  },
  {
   "cell_type": "code",
   "execution_count": 34,
   "metadata": {},
   "outputs": [
    {
     "data": {
      "text/plain": [
       "\n",
       "\tPaired t-test\n",
       "\n",
       "data:  Q3 and Q10\n",
       "t = -8.6811, df = 501, p-value < 2.2e-16\n",
       "alternative hypothesis: true difference in means is not equal to 0\n",
       "99 percent confidence interval:\n",
       " -0.5998031 -0.3244996\n",
       "sample estimates:\n",
       "mean of the differences \n",
       "             -0.4621514 \n"
      ]
     },
     "metadata": {},
     "output_type": "display_data"
    }
   ],
   "source": [
    "t.test(Q3, Q10, mu=0, alt=\"two.sided\", paired=T, conf.level=0.99)"
   ]
  },
  {
   "cell_type": "markdown",
   "metadata": {},
   "source": [
    "###### Pada data paired T-test Q3 dan Q10 dapat disimpulkan bahwa perbedaan rata” pada kedua sample ialah   -0.462, dari rata” perbedaan kedua sample besar dari 501 sampel ukuran (df) yang menghasilkan nilai t = -8.681 yang secara statistic nilai p < 2.2e-16."
   ]
  },
  {
   "cell_type": "code",
   "execution_count": 35,
   "metadata": {},
   "outputs": [
    {
     "data": {
      "text/plain": [
       "\n",
       "\tPaired t-test\n",
       "\n",
       "data:  Q4 and Q5\n",
       "t = 8.8413, df = 501, p-value < 2.2e-16\n",
       "alternative hypothesis: true difference in means is not equal to 0\n",
       "99 percent confidence interval:\n",
       " 0.4284742 0.7826812\n",
       "sample estimates:\n",
       "mean of the differences \n",
       "              0.6055777 \n"
      ]
     },
     "metadata": {},
     "output_type": "display_data"
    }
   ],
   "source": [
    "t.test(Q4, Q5, mu=0, alt=\"two.sided\", paired=T, conf.level=0.99)"
   ]
  },
  {
   "cell_type": "markdown",
   "metadata": {},
   "source": [
    "###### Pada data paired T-test Q4 dan Q5 dapat disimpulkan bahwa perbedaan rata” pada kedua sample ialah   0.606, dari rata” perbedaan kedua sample besar dari 501 sampel ukuran (df) yang menghasilkan nilai t = 8.841 yang secara statistic nilai p < 2.2e-16."
   ]
  },
  {
   "cell_type": "code",
   "execution_count": 36,
   "metadata": {},
   "outputs": [
    {
     "data": {
      "text/plain": [
       "\n",
       "\tPaired t-test\n",
       "\n",
       "data:  Q4 and Q6\n",
       "t = -5.9644, df = 501, p-value = 4.643e-09\n",
       "alternative hypothesis: true difference in means is not equal to 0\n",
       "99 percent confidence interval:\n",
       " -0.5083003 -0.2008631\n",
       "sample estimates:\n",
       "mean of the differences \n",
       "             -0.3545817 \n"
      ]
     },
     "metadata": {},
     "output_type": "display_data"
    }
   ],
   "source": [
    "t.test(Q4, Q6, mu=0, alt=\"two.sided\", paired=T, conf.level=0.99)"
   ]
  },
  {
   "cell_type": "markdown",
   "metadata": {},
   "source": [
    "###### Pada data paired T-test Q4 dan Q6 dapat disimpulkan bahwa perbedaan rata” pada kedua sample ialah   -0.355, dari rata” perbedaan kedua sample besar dari 501 sampel ukuran (df) yang menghasilkan nilai t = -5.964 yang secara statistic nilai p = 4.643e-09. "
   ]
  },
  {
   "cell_type": "code",
   "execution_count": 37,
   "metadata": {},
   "outputs": [
    {
     "data": {
      "text/plain": [
       "\n",
       "\tPaired t-test\n",
       "\n",
       "data:  Q4 and Q7\n",
       "t = -2.6258, df = 501, p-value = 0.008909\n",
       "alternative hypothesis: true difference in means is not equal to 0\n",
       "99 percent confidence interval:\n",
       " -0.363733389 -0.002800476\n",
       "sample estimates:\n",
       "mean of the differences \n",
       "             -0.1832669 \n"
      ]
     },
     "metadata": {},
     "output_type": "display_data"
    }
   ],
   "source": [
    "t.test(Q4, Q7, mu=0, alt=\"two.sided\", paired=T, conf.level=0.99)"
   ]
  },
  {
   "cell_type": "markdown",
   "metadata": {},
   "source": [
    "###### Pada data paired T-test Q4 dan Q7 dapat disimpulkan bahwa perbedaan rata” pada kedua sample ialah   -0.183, dari rata” perbedaan kedua sample besar dari 501 sampel ukuran (df) yang menghasilkan nilai t = -2.626 yang secara statistic nilai p = 0.009. "
   ]
  },
  {
   "cell_type": "code",
   "execution_count": 38,
   "metadata": {},
   "outputs": [
    {
     "data": {
      "text/plain": [
       "\n",
       "\tPaired t-test\n",
       "\n",
       "data:  Q4 and Q8\n",
       "t = -1.4908, df = 501, p-value = 0.1367\n",
       "alternative hypothesis: true difference in means is not equal to 0\n",
       "99 percent confidence interval:\n",
       " -0.26690952  0.07169039\n",
       "sample estimates:\n",
       "mean of the differences \n",
       "            -0.09760956 \n"
      ]
     },
     "metadata": {},
     "output_type": "display_data"
    }
   ],
   "source": [
    "t.test(Q4, Q8, mu=0, alt=\"two.sided\", paired=T, conf.level=0.99)"
   ]
  },
  {
   "cell_type": "markdown",
   "metadata": {},
   "source": [
    "###### Pada data paired T-test Q4 dan Q8 dapat disimpulkan bahwa perbedaan rata” pada kedua sample ialah   -0.098, dari rata” perbedaan kedua sample besar dari 501 sampel ukuran (df) yang menghasilkan nilai t = -1.491 yang secara statistic nilai p = 0.137. "
   ]
  },
  {
   "cell_type": "code",
   "execution_count": 39,
   "metadata": {},
   "outputs": [
    {
     "data": {
      "text/plain": [
       "\n",
       "\tPaired t-test\n",
       "\n",
       "data:  Q4 and Q9\n",
       "t = 29.892, df = 501, p-value < 2.2e-16\n",
       "alternative hypothesis: true difference in means is not equal to 0\n",
       "99 percent confidence interval:\n",
       " 1.725097 2.051795\n",
       "sample estimates:\n",
       "mean of the differences \n",
       "               1.888446 \n"
      ]
     },
     "metadata": {},
     "output_type": "display_data"
    }
   ],
   "source": [
    "t.test(Q4, Q9, mu=0, alt=\"two.sided\", paired=T, conf.level=0.99)"
   ]
  },
  {
   "cell_type": "markdown",
   "metadata": {},
   "source": [
    "###### Pada data paired T-test Q4 dan Q9 dapat disimpulkan bahwa perbedaan rata” pada kedua sample ialah   1.888, dari rata” perbedaan kedua sample besar dari 501 sampel ukuran (df) yang menghasilkan nilai t = 29.892 yang secara statistic nilai p < 2.2e-16. "
   ]
  },
  {
   "cell_type": "code",
   "execution_count": 40,
   "metadata": {},
   "outputs": [
    {
     "data": {
      "text/plain": [
       "\n",
       "\tPaired t-test\n",
       "\n",
       "data:  Q4 and Q10\n",
       "t = -5.937, df = 501, p-value = 5.427e-09\n",
       "alternative hypothesis: true difference in means is not equal to 0\n",
       "99 percent confidence interval:\n",
       " -0.4489561 -0.1765419\n",
       "sample estimates:\n",
       "mean of the differences \n",
       "              -0.312749 \n"
      ]
     },
     "metadata": {},
     "output_type": "display_data"
    }
   ],
   "source": [
    "t.test(Q4, Q10, mu=0, alt=\"two.sided\", paired=T, conf.level=0.99)"
   ]
  },
  {
   "cell_type": "markdown",
   "metadata": {},
   "source": [
    "###### Pada data paired T-test Q4 dan Q10 dapat disimpulkan bahwa perbedaan rata” pada kedua sample ialah   -0.313, dari rata” perbedaan kedua sample besar dari 501 sampel ukuran (df) yang menghasilkan nilai t = -5.937 yang secara statistic nilai p = 5.427e-09. "
   ]
  },
  {
   "cell_type": "code",
   "execution_count": 41,
   "metadata": {},
   "outputs": [
    {
     "data": {
      "text/plain": [
       "\n",
       "\tPaired t-test\n",
       "\n",
       "data:  Q5 and Q6\n",
       "t = -12.994, df = 501, p-value < 2.2e-16\n",
       "alternative hypothesis: true difference in means is not equal to 0\n",
       "99 percent confidence interval:\n",
       " -1.1512200 -0.7690988\n",
       "sample estimates:\n",
       "mean of the differences \n",
       "             -0.9601594 \n"
      ]
     },
     "metadata": {},
     "output_type": "display_data"
    }
   ],
   "source": [
    "t.test(Q5, Q6, mu=0, alt=\"two.sided\", paired=T, conf.level=0.99)"
   ]
  },
  {
   "cell_type": "markdown",
   "metadata": {},
   "source": [
    "###### Pada data paired T-test Q5 dan Q6 dapat disimpulkan bahwa perbedaan rata” pada kedua sample ialah   -0.96, dari rata” perbedaan kedua sample besar dari 501 sampel ukuran (df) yang menghasilkan nilai t =  -12.994 yang secara statistic nilai p < 2.2e-16"
   ]
  },
  {
   "cell_type": "code",
   "execution_count": 42,
   "metadata": {},
   "outputs": [
    {
     "data": {
      "text/plain": [
       "\n",
       "\tPaired t-test\n",
       "\n",
       "data:  Q5 and Q7\n",
       "t = -11.48, df = 501, p-value < 2.2e-16\n",
       "alternative hypothesis: true difference in means is not equal to 0\n",
       "99 percent confidence interval:\n",
       " -0.9665260 -0.6111632\n",
       "sample estimates:\n",
       "mean of the differences \n",
       "             -0.7888446 \n"
      ]
     },
     "metadata": {},
     "output_type": "display_data"
    }
   ],
   "source": [
    "t.test(Q5, Q7, mu=0, alt=\"two.sided\", paired=T, conf.level=0.99)"
   ]
  },
  {
   "cell_type": "markdown",
   "metadata": {},
   "source": [
    "###### Pada data paired T-test Q5 dan Q7 dapat disimpulkan bahwa perbedaan rata” pada kedua sample ialah   -0.789, dari rata” perbedaan kedua sample besar dari 501 sampel ukuran (df) yang menghasilkan nilai t = -11.48 yang secara statistic nilai p < 2.2e-16. "
   ]
  },
  {
   "cell_type": "code",
   "execution_count": 43,
   "metadata": {},
   "outputs": [
    {
     "data": {
      "text/plain": [
       "\n",
       "\tPaired t-test\n",
       "\n",
       "data:  Q5 and Q8\n",
       "t = -10.506, df = 501, p-value < 2.2e-16\n",
       "alternative hypothesis: true difference in means is not equal to 0\n",
       "99 percent confidence interval:\n",
       " -0.8762575 -0.5301170\n",
       "sample estimates:\n",
       "mean of the differences \n",
       "             -0.7031873 \n"
      ]
     },
     "metadata": {},
     "output_type": "display_data"
    }
   ],
   "source": [
    "t.test(Q5, Q8, mu=0, alt=\"two.sided\", paired=T, conf.level=0.99)"
   ]
  },
  {
   "cell_type": "markdown",
   "metadata": {},
   "source": [
    "###### Pada data paired T-test Q5 dan Q8 dapat disimpulkan bahwa perbedaan rata” pada kedua sample ialah   -0.703, dari rata” perbedaan kedua sample besar dari 501 sampel ukuran (df) yang menghasilkan nilai t = -10.506 yang secara statistic nilai p < 2.2e-16. "
   ]
  },
  {
   "cell_type": "code",
   "execution_count": 44,
   "metadata": {},
   "outputs": [
    {
     "data": {
      "text/plain": [
       "\n",
       "\tPaired t-test\n",
       "\n",
       "data:  Q5 and Q9\n",
       "t = 19.399, df = 501, p-value < 2.2e-16\n",
       "alternative hypothesis: true difference in means is not equal to 0\n",
       "99 percent confidence interval:\n",
       " 1.111880 1.453857\n",
       "sample estimates:\n",
       "mean of the differences \n",
       "               1.282869 \n"
      ]
     },
     "metadata": {},
     "output_type": "display_data"
    }
   ],
   "source": [
    "t.test(Q5, Q9, mu=0, alt=\"two.sided\", paired=T, conf.level=0.99)"
   ]
  },
  {
   "cell_type": "markdown",
   "metadata": {},
   "source": [
    "###### Pada data paired T-test Q5 dan Q9 dapat disimpulkan bahwa perbedaan rata” pada kedua sample ialah   1.283, dari rata” perbedaan kedua sample besar dari 501 sampel ukuran (df) yang menghasilkan nilai t = 19.399 yang secara statistic nilai p < 2.2e-16. "
   ]
  },
  {
   "cell_type": "code",
   "execution_count": 45,
   "metadata": {},
   "outputs": [
    {
     "data": {
      "text/plain": [
       "\n",
       "\tPaired t-test\n",
       "\n",
       "data:  Q5 and Q10\n",
       "t = -13.274, df = 501, p-value < 2.2e-16\n",
       "alternative hypothesis: true difference in means is not equal to 0\n",
       "99 percent confidence interval:\n",
       " -1.0972035 -0.7394499\n",
       "sample estimates:\n",
       "mean of the differences \n",
       "             -0.9183267 \n"
      ]
     },
     "metadata": {},
     "output_type": "display_data"
    }
   ],
   "source": [
    "t.test(Q5, Q10, mu=0, alt=\"two.sided\", paired=T, conf.level=0.99)"
   ]
  },
  {
   "cell_type": "markdown",
   "metadata": {},
   "source": [
    "###### Pada data paired T-test Q5 dan Q10 dapat disimpulkan bahwa perbedaan rata” pada kedua sample ialah   -0.918, dari rata” perbedaan kedua sample besar dari 501 sampel ukuran (df) yang menghasilkan nilai t = -13.274 yang secara statistic nilai p < 2.2e-16. "
   ]
  },
  {
   "cell_type": "code",
   "execution_count": 46,
   "metadata": {
    "collapsed": true
   },
   "outputs": [
    {
     "data": {
      "text/plain": [
       "\n",
       "\tPaired t-test\n",
       "\n",
       "data:  Q6 and Q7\n",
       "t = 2.5726, df = 501, p-value = 0.01038\n",
       "alternative hypothesis: true difference in means is not equal to 0\n",
       "99 percent confidence interval:\n",
       " -0.0008693978  0.3434988798\n",
       "sample estimates:\n",
       "mean of the differences \n",
       "              0.1713147 \n"
      ]
     },
     "metadata": {},
     "output_type": "display_data"
    }
   ],
   "source": [
    "t.test(Q6, Q7, mu=0, alt=\"two.sided\", paired=T, conf.level=0.99)"
   ]
  },
  {
   "cell_type": "markdown",
   "metadata": {},
   "source": [
    "###### Pada data paired T-test Q6 dan Q7 dapat disimpulkan bahwa perbedaan rata” pada kedua sample ialah   0.171, dari rata” perbedaan kedua sample besar dari 501 sampel ukuran (df) yang menghasilkan nilai t = 2.573 yang secara statistic nilai p = 0.01. "
   ]
  },
  {
   "cell_type": "code",
   "execution_count": 47,
   "metadata": {},
   "outputs": [
    {
     "data": {
      "text/plain": [
       "\n",
       "\tPaired t-test\n",
       "\n",
       "data:  Q6 and Q8\n",
       "t = 4.1044, df = 501, p-value = 4.732e-05\n",
       "alternative hypothesis: true difference in means is not equal to 0\n",
       "99 percent confidence interval:\n",
       " 0.09508612 0.41885811\n",
       "sample estimates:\n",
       "mean of the differences \n",
       "              0.2569721 \n"
      ]
     },
     "metadata": {},
     "output_type": "display_data"
    }
   ],
   "source": [
    "t.test(Q6, Q8, mu=0, alt=\"two.sided\", paired=T, conf.level=0.99)"
   ]
  },
  {
   "cell_type": "markdown",
   "metadata": {},
   "source": [
    "###### Pada data paired T-test Q6 dan Q8 dapat disimpulkan bahwa perbedaan rata” pada kedua sample ialah   0.257, dari rata” perbedaan kedua sample besar dari 501 sampel ukuran (df) yang menghasilkan nilai t = 4.104 yang secara statistic nilai p = 4.732e-05. "
   ]
  },
  {
   "cell_type": "code",
   "execution_count": 48,
   "metadata": {},
   "outputs": [
    {
     "data": {
      "text/plain": [
       "\n",
       "\tPaired t-test\n",
       "\n",
       "data:  Q6 and Q9\n",
       "t = 33.667, df = 501, p-value < 2.2e-16\n",
       "alternative hypothesis: true difference in means is not equal to 0\n",
       "99 percent confidence interval:\n",
       " 2.070760 2.415296\n",
       "sample estimates:\n",
       "mean of the differences \n",
       "               2.243028 \n"
      ]
     },
     "metadata": {},
     "output_type": "display_data"
    }
   ],
   "source": [
    "t.test(Q6, Q9, mu=0, alt=\"two.sided\", paired=T, conf.level=0.99)"
   ]
  },
  {
   "cell_type": "markdown",
   "metadata": {},
   "source": [
    "######  Pada data paired T-test Q6 dan Q9 dapat disimpulkan bahwa perbedaan rata” pada kedua sample ialah   2.243, dari rata” perbedaan kedua sample besar dari 501 sampel ukuran (df) yang menghasilkan nilai t = 33.667 yang secara statistic nilai p < 2.2e-16."
   ]
  },
  {
   "cell_type": "code",
   "execution_count": 8,
   "metadata": {},
   "outputs": [
    {
     "data": {
      "text/plain": [
       "\n",
       "\tPaired t-test\n",
       "\n",
       "data:  Q6 and Q10\n",
       "t = 0.73526, df = 501, p-value = 0.4625\n",
       "alternative hypothesis: true difference in means is not equal to 0\n",
       "99 percent confidence interval:\n",
       " -0.1052794  0.1889448\n",
       "sample estimates:\n",
       "mean of the differences \n",
       "             0.04183267 \n"
      ]
     },
     "metadata": {},
     "output_type": "display_data"
    }
   ],
   "source": [
    "t.test(Q6, Q10, mu=0, alt=\"two.sided\", paired=T, conf.level=0.99)"
   ]
  },
  {
   "cell_type": "markdown",
   "metadata": {},
   "source": [
    "###### Pada data paired T-test Q6 dan Q10 dapat disimpulkan bahwa perbedaan rata” pada kedua sample ialah   0.042, dari rata” perbedaan kedua sample besar dari 501 sampel ukuran (df) yang menghasilkan nilai t = 0.735 yang secara statistic nilai p = 0.463. "
   ]
  },
  {
   "cell_type": "code",
   "execution_count": 50,
   "metadata": {},
   "outputs": [
    {
     "data": {
      "text/plain": [
       "\n",
       "\tPaired t-test\n",
       "\n",
       "data:  Q7 and Q8\n",
       "t = 1.5777, df = 501, p-value = 0.1153\n",
       "alternative hypothesis: true difference in means is not equal to 0\n",
       "99 percent confidence interval:\n",
       " -0.05472276  0.22603750\n",
       "sample estimates:\n",
       "mean of the differences \n",
       "             0.08565737 \n"
      ]
     },
     "metadata": {},
     "output_type": "display_data"
    }
   ],
   "source": [
    "t.test(Q7, Q8, mu=0, alt=\"two.sided\", paired=T, conf.level=0.99)"
   ]
  },
  {
   "cell_type": "markdown",
   "metadata": {},
   "source": [
    "###### Pada data paired T-test Q7 dan Q8 dapat disimpulkan bahwa perbedaan rata” pada kedua sample ialah   0.086, dari rata” perbedaan kedua sample besar dari 501 sampel ukuran (df) yang menghasilkan nilai t = 1.578 yang secara statistic nilai p = 0.115. "
   ]
  },
  {
   "cell_type": "code",
   "execution_count": 51,
   "metadata": {},
   "outputs": [
    {
     "data": {
      "text/plain": [
       "\n",
       "\tPaired t-test\n",
       "\n",
       "data:  Q7 and Q9\n",
       "t = 26.06, df = 501, p-value < 2.2e-16\n",
       "alternative hypothesis: true difference in means is not equal to 0\n",
       "99 percent confidence interval:\n",
       " 1.866161 2.277266\n",
       "sample estimates:\n",
       "mean of the differences \n",
       "               2.071713 \n"
      ]
     },
     "metadata": {},
     "output_type": "display_data"
    }
   ],
   "source": [
    "t.test(Q7, Q9, mu=0, alt=\"two.sided\", paired=T, conf.level=0.99)"
   ]
  },
  {
   "cell_type": "markdown",
   "metadata": {},
   "source": [
    "###### Pada data paired T-test Q7 dan Q9 dapat disimpulkan bahwa perbedaan rata” pada kedua sample ialah   2.072, dari rata” perbedaan kedua sample besar dari 501 sampel ukuran (df) yang menghasilkan nilai t = 26.06 yang secara statistic nilai p < 2.2e-16. "
   ]
  },
  {
   "cell_type": "code",
   "execution_count": 52,
   "metadata": {},
   "outputs": [
    {
     "data": {
      "text/plain": [
       "\n",
       "\tPaired t-test\n",
       "\n",
       "data:  Q7 and Q10\n",
       "t = -1.8867, df = 501, p-value = 0.05978\n",
       "alternative hypothesis: true difference in means is not equal to 0\n",
       "99 percent confidence interval:\n",
       " -0.30693640  0.04797226\n",
       "sample estimates:\n",
       "mean of the differences \n",
       "             -0.1294821 \n"
      ]
     },
     "metadata": {},
     "output_type": "display_data"
    }
   ],
   "source": [
    "t.test(Q7, Q10, mu=0, alt=\"two.sided\", paired=T, conf.level=0.99)"
   ]
  },
  {
   "cell_type": "markdown",
   "metadata": {},
   "source": [
    "###### Pada data paired T-test Q7 dan Q10 dapat disimpulkan bahwa perbedaan rata” pada kedua sample ialah   -0.129, dari rata” perbedaan kedua sample besar dari 501 sampel ukuran (df) yang menghasilkan nilai t = -1.887 yang secara statistic nilai p = 0.06. "
   ]
  },
  {
   "cell_type": "code",
   "execution_count": 53,
   "metadata": {},
   "outputs": [
    {
     "data": {
      "text/plain": [
       "\n",
       "\tPaired t-test\n",
       "\n",
       "data:  Q8 and Q9\n",
       "t = 25.098, df = 501, p-value < 2.2e-16\n",
       "alternative hypothesis: true difference in means is not equal to 0\n",
       "99 percent confidence interval:\n",
       " 1.781444 2.190668\n",
       "sample estimates:\n",
       "mean of the differences \n",
       "               1.986056 \n"
      ]
     },
     "metadata": {},
     "output_type": "display_data"
    }
   ],
   "source": [
    "t.test(Q8, Q9, mu=0, alt=\"two.sided\", paired=T, conf.level=0.99)"
   ]
  },
  {
   "cell_type": "markdown",
   "metadata": {},
   "source": [
    "###### Pada data paired T-test Q8 dan Q9 dapat disimpulkan bahwa perbedaan rata” pada kedua sample ialah   1.986, dari rata” perbedaan kedua sample besar dari 501 sampel ukuran (df) yang menghasilkan nilai t = 25.098 yang secara statistic nilai p < 2.2e-16. "
   ]
  },
  {
   "cell_type": "code",
   "execution_count": 54,
   "metadata": {},
   "outputs": [
    {
     "data": {
      "text/plain": [
       "\n",
       "\tPaired t-test\n",
       "\n",
       "data:  Q8 and Q10\n",
       "t = -3.0507, df = 501, p-value = 0.002404\n",
       "alternative hypothesis: true difference in means is not equal to 0\n",
       "99 percent confidence interval:\n",
       " -0.3974835 -0.0327954\n",
       "sample estimates:\n",
       "mean of the differences \n",
       "             -0.2151394 \n"
      ]
     },
     "metadata": {},
     "output_type": "display_data"
    }
   ],
   "source": [
    "t.test(Q8, Q10, mu=0, alt=\"two.sided\", paired=T, conf.level=0.99)"
   ]
  },
  {
   "cell_type": "markdown",
   "metadata": {},
   "source": [
    "###### Pada data paired T-test Q8 dan Q10 dapat disimpulkan bahwa perbedaan rata” pada kedua sample ialah   -0.215, dari rata” perbedaan kedua sample besar dari 501 sampel ukuran (df) yang menghasilkan nilai t = -3.051 yang secara statistic nilai p = 0.002. "
   ]
  },
  {
   "cell_type": "code",
   "execution_count": 55,
   "metadata": {},
   "outputs": [
    {
     "data": {
      "text/plain": [
       "\n",
       "\tPaired t-test\n",
       "\n",
       "data:  Q9 and Q10\n",
       "t = -34.285, df = 501, p-value < 2.2e-16\n",
       "alternative hypothesis: true difference in means is not equal to 0\n",
       "99 percent confidence interval:\n",
       " -2.367202 -2.035188\n",
       "sample estimates:\n",
       "mean of the differences \n",
       "              -2.201195 \n"
      ]
     },
     "metadata": {},
     "output_type": "display_data"
    }
   ],
   "source": [
    "t.test(Q9, Q10, mu=0, alt=\"two.sided\", paired=T, conf.level=0.99)"
   ]
  },
  {
   "cell_type": "markdown",
   "metadata": {},
   "source": [
    "###### Pada data paired T-test Q9 dan Q10 dapat disimpulkan bahwa perbedaan rata” pada kedua sample ialah   -2.201, dari rata” perbedaan kedua sample besar dari 501 sampel ukuran (df) yang menghasilkan nilai t =  -34.285 yang secara statistic nilai p < 2.2e-16. "
   ]
  },
  {
   "cell_type": "markdown",
   "metadata": {},
   "source": [
    "## 3. Uji data menggunakan Principal Component Analysis"
   ]
  },
  {
   "cell_type": "code",
   "execution_count": 11,
   "metadata": {},
   "outputs": [
    {
     "data": {
      "text/plain": [
       "       Q1              Q2              Q3              Q4       \n",
       " Min.   :1.000   Min.   :1.000   Min.   :1.000   Min.   :1.000  \n",
       " 1st Qu.:3.000   1st Qu.:1.000   1st Qu.:3.000   1st Qu.:3.000  \n",
       " Median :4.000   Median :1.000   Median :3.000   Median :4.000  \n",
       " Mean   :3.574   Mean   :1.635   Mean   :3.265   Mean   :3.414  \n",
       " 3rd Qu.:4.000   3rd Qu.:2.000   3rd Qu.:4.000   3rd Qu.:4.000  \n",
       " Max.   :5.000   Max.   :5.000   Max.   :5.000   Max.   :5.000  \n",
       "       Q5              Q6              Q7              Q8       \n",
       " Min.   :1.000   Min.   :1.000   Min.   :1.000   Min.   :1.000  \n",
       " 1st Qu.:2.000   1st Qu.:3.000   1st Qu.:3.000   1st Qu.:3.000  \n",
       " Median :3.000   Median :4.000   Median :4.000   Median :4.000  \n",
       " Mean   :2.809   Mean   :3.769   Mean   :3.598   Mean   :3.512  \n",
       " 3rd Qu.:4.000   3rd Qu.:4.000   3rd Qu.:4.000   3rd Qu.:4.000  \n",
       " Max.   :5.000   Max.   :5.000   Max.   :5.000   Max.   :5.000  \n",
       "       Q9             Q10       \n",
       " Min.   :1.000   Min.   :1.000  \n",
       " 1st Qu.:1.000   1st Qu.:3.000  \n",
       " Median :1.000   Median :4.000  \n",
       " Mean   :1.526   Mean   :3.727  \n",
       " 3rd Qu.:2.000   3rd Qu.:4.000  \n",
       " Max.   :5.000   Max.   :5.000  "
      ]
     },
     "metadata": {},
     "output_type": "display_data"
    },
    {
     "data": {
      "text/html": [
       "<table>\n",
       "<thead><tr><th></th><th scope=col>Q1</th><th scope=col>Q2</th><th scope=col>Q3</th><th scope=col>Q4</th><th scope=col>Q5</th><th scope=col>Q6</th><th scope=col>Q7</th><th scope=col>Q8</th><th scope=col>Q9</th><th scope=col>Q10</th></tr></thead>\n",
       "<tbody>\n",
       "\t<tr><th scope=row>Q1</th><td> 1.00000000 </td><td> 0.01129787 </td><td> 0.216672241</td><td> 0.20302132 </td><td>-0.25664279 </td><td> 0.20252821 </td><td> 0.12349500 </td><td> 0.065363856</td><td>-0.040869021</td><td> 0.238411950</td></tr>\n",
       "\t<tr><th scope=row>Q2</th><td> 0.01129787 </td><td> 1.00000000 </td><td> 0.112154288</td><td> 0.05209318 </td><td> 0.07180601 </td><td>-0.03549107 </td><td>-0.13345736 </td><td>-0.242765663</td><td> 0.452294512</td><td> 0.014567882</td></tr>\n",
       "\t<tr><th scope=row>Q3</th><td> 0.21667224 </td><td> 0.11215429 </td><td> 1.000000000</td><td> 0.46686461 </td><td>-0.22145198 </td><td> 0.20420013 </td><td> 0.04139664 </td><td> 0.003365176</td><td>-0.055837538</td><td> 0.302232429</td></tr>\n",
       "\t<tr><th scope=row>Q4</th><td> 0.20302132 </td><td> 0.05209318 </td><td> 0.466864607</td><td> 1.00000000 </td><td>-0.13621467 </td><td> 0.12320150 </td><td>-0.05888883 </td><td> 0.021241639</td><td>-0.048940638</td><td> 0.286716958</td></tr>\n",
       "\t<tr><th scope=row>Q5</th><td>-0.25664279 </td><td> 0.07180601 </td><td>-0.221451978</td><td>-0.13621467 </td><td> 1.00000000 </td><td>-0.19952846 </td><td> 0.07996329 </td><td> 0.086311840</td><td>-0.010157620</td><td>-0.085234253</td></tr>\n",
       "\t<tr><th scope=row>Q6</th><td> 0.20252821 </td><td>-0.03549107 </td><td> 0.204200132</td><td> 0.12320150 </td><td>-0.19952846 </td><td> 1.00000000 </td><td> 0.11839474 </td><td> 0.183458663</td><td>-0.050893633</td><td> 0.248271866</td></tr>\n",
       "\t<tr><th scope=row>Q7</th><td> 0.12349500 </td><td>-0.13345736 </td><td> 0.041396638</td><td>-0.05888883 </td><td> 0.07996329 </td><td> 0.11839474 </td><td> 1.00000000 </td><td> 0.452153793</td><td>-0.320365483</td><td> 0.036006972</td></tr>\n",
       "\t<tr><th scope=row>Q8</th><td> 0.06536386 </td><td>-0.24276566 </td><td> 0.003365176</td><td> 0.02124164 </td><td> 0.08631184 </td><td> 0.18345866 </td><td> 0.45215379 </td><td> 1.000000000</td><td>-0.371709544</td><td>-0.068464372</td></tr>\n",
       "\t<tr><th scope=row>Q9</th><td>-0.04086902 </td><td> 0.45229451 </td><td>-0.055837538</td><td>-0.04894064 </td><td>-0.01015762 </td><td>-0.05089363 </td><td>-0.32036548 </td><td>-0.371709544</td><td> 1.000000000</td><td>-0.009648022</td></tr>\n",
       "\t<tr><th scope=row>Q10</th><td> 0.23841195 </td><td> 0.01456788 </td><td> 0.302232429</td><td> 0.28671696 </td><td>-0.08523425 </td><td> 0.24827187 </td><td> 0.03600697 </td><td>-0.068464372</td><td>-0.009648022</td><td> 1.000000000</td></tr>\n",
       "</tbody>\n",
       "</table>\n"
      ],
      "text/latex": [
       "\\begin{tabular}{r|llllllllll}\n",
       "  & Q1 & Q2 & Q3 & Q4 & Q5 & Q6 & Q7 & Q8 & Q9 & Q10\\\\\n",
       "\\hline\n",
       "\tQ1 &  1.00000000  &  0.01129787  &  0.216672241 &  0.20302132  & -0.25664279  &  0.20252821  &  0.12349500  &  0.065363856 & -0.040869021 &  0.238411950\\\\\n",
       "\tQ2 &  0.01129787  &  1.00000000  &  0.112154288 &  0.05209318  &  0.07180601  & -0.03549107  & -0.13345736  & -0.242765663 &  0.452294512 &  0.014567882\\\\\n",
       "\tQ3 &  0.21667224  &  0.11215429  &  1.000000000 &  0.46686461  & -0.22145198  &  0.20420013  &  0.04139664  &  0.003365176 & -0.055837538 &  0.302232429\\\\\n",
       "\tQ4 &  0.20302132  &  0.05209318  &  0.466864607 &  1.00000000  & -0.13621467  &  0.12320150  & -0.05888883  &  0.021241639 & -0.048940638 &  0.286716958\\\\\n",
       "\tQ5 & -0.25664279  &  0.07180601  & -0.221451978 & -0.13621467  &  1.00000000  & -0.19952846  &  0.07996329  &  0.086311840 & -0.010157620 & -0.085234253\\\\\n",
       "\tQ6 &  0.20252821  & -0.03549107  &  0.204200132 &  0.12320150  & -0.19952846  &  1.00000000  &  0.11839474  &  0.183458663 & -0.050893633 &  0.248271866\\\\\n",
       "\tQ7 &  0.12349500  & -0.13345736  &  0.041396638 & -0.05888883  &  0.07996329  &  0.11839474  &  1.00000000  &  0.452153793 & -0.320365483 &  0.036006972\\\\\n",
       "\tQ8 &  0.06536386  & -0.24276566  &  0.003365176 &  0.02124164  &  0.08631184  &  0.18345866  &  0.45215379  &  1.000000000 & -0.371709544 & -0.068464372\\\\\n",
       "\tQ9 & -0.04086902  &  0.45229451  & -0.055837538 & -0.04894064  & -0.01015762  & -0.05089363  & -0.32036548  & -0.371709544 &  1.000000000 & -0.009648022\\\\\n",
       "\tQ10 &  0.23841195  &  0.01456788  &  0.302232429 &  0.28671696  & -0.08523425  &  0.24827187  &  0.03600697  & -0.068464372 & -0.009648022 &  1.000000000\\\\\n",
       "\\end{tabular}\n"
      ],
      "text/markdown": [
       "\n",
       "| <!--/--> | Q1 | Q2 | Q3 | Q4 | Q5 | Q6 | Q7 | Q8 | Q9 | Q10 |\n",
       "|---|---|---|---|---|---|---|---|---|---|---|\n",
       "| Q1 |  1.00000000  |  0.01129787  |  0.216672241 |  0.20302132  | -0.25664279  |  0.20252821  |  0.12349500  |  0.065363856 | -0.040869021 |  0.238411950 |\n",
       "| Q2 |  0.01129787  |  1.00000000  |  0.112154288 |  0.05209318  |  0.07180601  | -0.03549107  | -0.13345736  | -0.242765663 |  0.452294512 |  0.014567882 |\n",
       "| Q3 |  0.21667224  |  0.11215429  |  1.000000000 |  0.46686461  | -0.22145198  |  0.20420013  |  0.04139664  |  0.003365176 | -0.055837538 |  0.302232429 |\n",
       "| Q4 |  0.20302132  |  0.05209318  |  0.466864607 |  1.00000000  | -0.13621467  |  0.12320150  | -0.05888883  |  0.021241639 | -0.048940638 |  0.286716958 |\n",
       "| Q5 | -0.25664279  |  0.07180601  | -0.221451978 | -0.13621467  |  1.00000000  | -0.19952846  |  0.07996329  |  0.086311840 | -0.010157620 | -0.085234253 |\n",
       "| Q6 |  0.20252821  | -0.03549107  |  0.204200132 |  0.12320150  | -0.19952846  |  1.00000000  |  0.11839474  |  0.183458663 | -0.050893633 |  0.248271866 |\n",
       "| Q7 |  0.12349500  | -0.13345736  |  0.041396638 | -0.05888883  |  0.07996329  |  0.11839474  |  1.00000000  |  0.452153793 | -0.320365483 |  0.036006972 |\n",
       "| Q8 |  0.06536386  | -0.24276566  |  0.003365176 |  0.02124164  |  0.08631184  |  0.18345866  |  0.45215379  |  1.000000000 | -0.371709544 | -0.068464372 |\n",
       "| Q9 | -0.04086902  |  0.45229451  | -0.055837538 | -0.04894064  | -0.01015762  | -0.05089363  | -0.32036548  | -0.371709544 |  1.000000000 | -0.009648022 |\n",
       "| Q10 |  0.23841195  |  0.01456788  |  0.302232429 |  0.28671696  | -0.08523425  |  0.24827187  |  0.03600697  | -0.068464372 | -0.009648022 |  1.000000000 |\n",
       "\n"
      ],
      "text/plain": [
       "    Q1          Q2          Q3           Q4          Q5          Q6         \n",
       "Q1   1.00000000  0.01129787  0.216672241  0.20302132 -0.25664279  0.20252821\n",
       "Q2   0.01129787  1.00000000  0.112154288  0.05209318  0.07180601 -0.03549107\n",
       "Q3   0.21667224  0.11215429  1.000000000  0.46686461 -0.22145198  0.20420013\n",
       "Q4   0.20302132  0.05209318  0.466864607  1.00000000 -0.13621467  0.12320150\n",
       "Q5  -0.25664279  0.07180601 -0.221451978 -0.13621467  1.00000000 -0.19952846\n",
       "Q6   0.20252821 -0.03549107  0.204200132  0.12320150 -0.19952846  1.00000000\n",
       "Q7   0.12349500 -0.13345736  0.041396638 -0.05888883  0.07996329  0.11839474\n",
       "Q8   0.06536386 -0.24276566  0.003365176  0.02124164  0.08631184  0.18345866\n",
       "Q9  -0.04086902  0.45229451 -0.055837538 -0.04894064 -0.01015762 -0.05089363\n",
       "Q10  0.23841195  0.01456788  0.302232429  0.28671696 -0.08523425  0.24827187\n",
       "    Q7          Q8           Q9           Q10         \n",
       "Q1   0.12349500  0.065363856 -0.040869021  0.238411950\n",
       "Q2  -0.13345736 -0.242765663  0.452294512  0.014567882\n",
       "Q3   0.04139664  0.003365176 -0.055837538  0.302232429\n",
       "Q4  -0.05888883  0.021241639 -0.048940638  0.286716958\n",
       "Q5   0.07996329  0.086311840 -0.010157620 -0.085234253\n",
       "Q6   0.11839474  0.183458663 -0.050893633  0.248271866\n",
       "Q7   1.00000000  0.452153793 -0.320365483  0.036006972\n",
       "Q8   0.45215379  1.000000000 -0.371709544 -0.068464372\n",
       "Q9  -0.32036548 -0.371709544  1.000000000 -0.009648022\n",
       "Q10  0.03600697 -0.068464372 -0.009648022  1.000000000"
      ]
     },
     "metadata": {},
     "output_type": "display_data"
    }
   ],
   "source": [
    "# Descriptive statistics\n",
    "summary(x)\n",
    "cor(x)"
   ]
  },
  {
   "cell_type": "code",
   "execution_count": 13,
   "metadata": {},
   "outputs": [
    {
     "data": {
      "text/plain": [
       "\n",
       "Loadings:\n",
       "    Comp.1 Comp.2 Comp.3 Comp.4 Comp.5 Comp.6 Comp.7 Comp.8 Comp.9 Comp.10\n",
       "Q1   0.377  0.114  0.100  0.357  0.276  0.629  0.414  0.232               \n",
       "Q2  -0.131  0.412 -0.532  0.274  0.269        -0.117  0.142 -0.580        \n",
       "Q3   0.427  0.253 -0.160 -0.282  0.228 -0.231 -0.316  0.375  0.433  0.339 \n",
       "Q4   0.382  0.245 -0.143 -0.488  0.180 -0.129  0.382 -0.333 -0.125 -0.462 \n",
       "Q5  -0.263 -0.191 -0.644 -0.242 -0.305  0.176  0.363  0.329  0.236        \n",
       "Q6   0.369                0.471 -0.453 -0.514  0.210  0.266        -0.238 \n",
       "Q7   0.236 -0.413 -0.371  0.247  0.184  0.157 -0.482 -0.151  0.174 -0.480 \n",
       "Q8   0.239 -0.474 -0.243  0.121  0.168 -0.238  0.287 -0.389         0.566 \n",
       "Q9  -0.251  0.463 -0.165  0.341                      -0.484  0.574        \n",
       "Q10  0.363  0.215 -0.148        -0.637  0.382 -0.261 -0.294 -0.175  0.237 \n",
       "\n",
       "               Comp.1 Comp.2 Comp.3 Comp.4 Comp.5 Comp.6 Comp.7 Comp.8 Comp.9\n",
       "SS loadings       1.0    1.0    1.0    1.0    1.0    1.0    1.0    1.0    1.0\n",
       "Proportion Var    0.1    0.1    0.1    0.1    0.1    0.1    0.1    0.1    0.1\n",
       "Cumulative Var    0.1    0.2    0.3    0.4    0.5    0.6    0.7    0.8    0.9\n",
       "               Comp.10\n",
       "SS loadings        1.0\n",
       "Proportion Var     0.1\n",
       "Cumulative Var     1.0"
      ]
     },
     "metadata": {},
     "output_type": "display_data"
    }
   ],
   "source": [
    "# Loading of Principal Components\n",
    "loadings(pca)"
   ]
  },
  {
   "cell_type": "code",
   "execution_count": 14,
   "metadata": {},
   "outputs": [
    {
     "data": {
      "image/png": "[encoded data removed]",
      "text/plain": [
       "Plot with title \"pca\""
      ]
     },
     "metadata": {},
     "output_type": "display_data"
    },
    {
     "data": {
      "image/png": "[encoded data removed]",
      "text/plain": [
       "Plot with title \"scree plot\""
      ]
     },
     "metadata": {},
     "output_type": "display_data"
    }
   ],
   "source": [
    "# Scree plot of eigenvalues\n",
    "plot(pca)\n",
    "screeplot(pca, type=\"line\", main=\"scree plot\")"
   ]
  },
  {
   "cell_type": "markdown",
   "metadata": {},
   "source": [
    "#### Dari Grafik diatas dapat disimpulkan bahwa Komponen 1 dan Komponen 2 memiliki nilai varian yang tertinggi sehingga Komponen 1 dan Komponen 2 dijadikan alternatif acuan untuk menentukan nilai pca semua komponen"
   ]
  },
  {
   "cell_type": "code",
   "execution_count": 24,
   "metadata": {},
   "outputs": [
    {
     "data": {
      "image/png": "[encoded data removed]",
      "text/plain": [
       "plot without title"
      ]
     },
     "metadata": {},
     "output_type": "display_data"
    }
   ],
   "source": [
    "# Biplot of score variables\n",
    "biplot(pca)"
   ]
  },
  {
   "cell_type": "markdown",
   "metadata": {},
   "source": [
    "Dari grafik acuan alternatif nilai Komponen 1 (sebagai sumbu x) dan Komponen 2 (sebagai sumbu y) didapatkan\n",
    "<ol>\n",
    "    <li>Q10, Q4, Q3 saling berhubungan satu sama lain</li>\n",
    "    <li>Q5 tidak berhubungan sama sekali dengan pertanyaan lain</li>\n",
    "    <li>Q1 dan Q6 cukup berhubungan dengan Q10,Q4 dan Q3</li>\n",
    "    <li>Q7 dan Q8 bertolak belakang dengan Q9 dan Q2</li>\n",
    "<ol>\n",
    "  Keterangan =\n",
    "<ul>\n",
    "    <li>Q1  = Menurut anda seorang Programmer harus menguasai minimal 3 bahasa pemrograman</li>\n",
    "    <li>Q2  = Apakah anda pernah mengunakan bahasa python</li>\n",
    "    <li>Q3  = Bahasa pemrograman python lebih mudah untuk digunakan daripada bahasa pemrograman yang lain</li>\n",
    "    <li>Q4  = Menurut anda,apakah Bahasa pemrograman python memiliki readability yang user-friendly daripada bahasa pemrograman java?</li>\n",
    "    <li>Q5  = Seorang programmer boleh menggenalkan bug yang ada di dalam software yang nantinya programmer mendapat keuntungan dalam membetulkan bug</li>\n",
    "    <li>Q6  = Programmer tidak boleh mencuri Software khususnya development tools</li>\n",
    "    <li>Q7  = Software yang dibuat secara tim dapat diperjual belikan tanpa memberitahukan kepada tim sebelumnya</li>\n",
    "    <li>Q8  = Menurut anda apakah software bajakan baik untuk digunakan?</li>\n",
    "    <li>Q9  = Apakah anda pernah mengikuti program sertifikasi untuk software programmer</li>\n",
    "    <li>Q10 = Apakah anda setuju jika seorang Software programmer jika memiliki lebih dari satu sertifikasi maka mendapatkan gaji yang lebih besar</li>  "
   ]
  },
  {
   "cell_type": "code",
   "execution_count": 16,
   "metadata": {},
   "outputs": [
    {
     "data": {
      "text/html": [
       "<table>\n",
       "<thead><tr><th scope=col>Comp.1</th><th scope=col>Comp.2</th><th scope=col>Comp.3</th><th scope=col>Comp.4</th><th scope=col>Comp.5</th><th scope=col>Comp.6</th><th scope=col>Comp.7</th><th scope=col>Comp.8</th><th scope=col>Comp.9</th><th scope=col>Comp.10</th></tr></thead>\n",
       "<tbody>\n",
       "\t<tr><td> 1.19257533 </td><td>-0.9624164  </td><td> 0.3980937  </td><td> 0.50197805 </td><td>-0.577455571</td><td> 0.411399620</td><td>-0.24815877 </td><td>-0.81254897 </td><td>-0.4295102  </td><td> 0.92153424 </td></tr>\n",
       "\t<tr><td> 1.89551320 </td><td>-0.2578783  </td><td>-0.2518712  </td><td> 0.48797933 </td><td> 0.284311849</td><td>-0.897012671</td><td> 0.18215177 </td><td>-0.11515942 </td><td>-0.4871803  </td><td> 0.38514133 </td></tr>\n",
       "\t<tr><td> 0.48188526 </td><td> 0.4912815  </td><td>-0.3857747  </td><td> 1.77343977 </td><td>-0.031226652</td><td>-0.465602679</td><td>-0.16706774 </td><td>-0.15107899 </td><td>-0.6827019  </td><td> 0.12087292 </td></tr>\n",
       "\t<tr><td> 1.54984827 </td><td>-0.4585983  </td><td> 1.4500335  </td><td> 1.46101714 </td><td>-0.006211607</td><td> 0.147632097</td><td>-0.01973236 </td><td>-0.03232592 </td><td>-0.3245371  </td><td> 0.03834163 </td></tr>\n",
       "\t<tr><td>-1.91371837 </td><td> 2.0146455  </td><td>-0.7537532  </td><td>-0.08311075 </td><td> 1.875692301</td><td>-0.822424678</td><td>-3.63350223 </td><td> 0.00471159 </td><td>-1.2526754  </td><td>-0.95646328 </td></tr>\n",
       "\t<tr><td>-4.57882791 </td><td>-3.6909655  </td><td>-1.2877104  </td><td>-0.06300368 </td><td> 1.200967776</td><td> 0.002497741</td><td>-0.58868729 </td><td>-0.16043900 </td><td>-0.3273647  </td><td> 0.40461396 </td></tr>\n",
       "\t<tr><td>-2.14408163 </td><td>-3.3790366  </td><td> 0.2740773  </td><td> 1.63278029 </td><td> 0.027414642</td><td>-2.425375389</td><td>-0.67314773 </td><td> 0.48218990 </td><td> 0.2287551  </td><td>-0.15980750 </td></tr>\n",
       "\t<tr><td> 0.01816618 </td><td>-1.0756557  </td><td> 0.2060558  </td><td> 0.43832082 </td><td> 0.246836187</td><td> 0.377446787</td><td>-0.31419328 </td><td> 0.62480597 </td><td> 0.4216055  </td><td>-0.97519450 </td></tr>\n",
       "\t<tr><td>-2.68857062 </td><td> 0.4798356  </td><td> 0.5945759  </td><td> 0.82200674 </td><td> 1.204001957</td><td>-2.545772714</td><td> 2.28346280 </td><td>-1.49360249 </td><td>-1.2644233  </td><td> 0.13913288 </td></tr>\n",
       "\t<tr><td> 0.71478412 </td><td>-0.2036122  </td><td> 0.5014127  </td><td> 1.36701735 </td><td>-0.522553403</td><td> 0.034756801</td><td>-0.60974579 </td><td>-0.19970562 </td><td> 0.6104258  </td><td>-0.91484202 </td></tr>\n",
       "</tbody>\n",
       "</table>\n"
      ],
      "text/latex": [
       "\\begin{tabular}{llllllllll}\n",
       " Comp.1 & Comp.2 & Comp.3 & Comp.4 & Comp.5 & Comp.6 & Comp.7 & Comp.8 & Comp.9 & Comp.10\\\\\n",
       "\\hline\n",
       "\t  1.19257533  & -0.9624164   &  0.3980937   &  0.50197805  & -0.577455571 &  0.411399620 & -0.24815877  & -0.81254897  & -0.4295102   &  0.92153424 \\\\\n",
       "\t  1.89551320  & -0.2578783   & -0.2518712   &  0.48797933  &  0.284311849 & -0.897012671 &  0.18215177  & -0.11515942  & -0.4871803   &  0.38514133 \\\\\n",
       "\t  0.48188526  &  0.4912815   & -0.3857747   &  1.77343977  & -0.031226652 & -0.465602679 & -0.16706774  & -0.15107899  & -0.6827019   &  0.12087292 \\\\\n",
       "\t  1.54984827  & -0.4585983   &  1.4500335   &  1.46101714  & -0.006211607 &  0.147632097 & -0.01973236  & -0.03232592  & -0.3245371   &  0.03834163 \\\\\n",
       "\t -1.91371837  &  2.0146455   & -0.7537532   & -0.08311075  &  1.875692301 & -0.822424678 & -3.63350223  &  0.00471159  & -1.2526754   & -0.95646328 \\\\\n",
       "\t -4.57882791  & -3.6909655   & -1.2877104   & -0.06300368  &  1.200967776 &  0.002497741 & -0.58868729  & -0.16043900  & -0.3273647   &  0.40461396 \\\\\n",
       "\t -2.14408163  & -3.3790366   &  0.2740773   &  1.63278029  &  0.027414642 & -2.425375389 & -0.67314773  &  0.48218990  &  0.2287551   & -0.15980750 \\\\\n",
       "\t  0.01816618  & -1.0756557   &  0.2060558   &  0.43832082  &  0.246836187 &  0.377446787 & -0.31419328  &  0.62480597  &  0.4216055   & -0.97519450 \\\\\n",
       "\t -2.68857062  &  0.4798356   &  0.5945759   &  0.82200674  &  1.204001957 & -2.545772714 &  2.28346280  & -1.49360249  & -1.2644233   &  0.13913288 \\\\\n",
       "\t  0.71478412  & -0.2036122   &  0.5014127   &  1.36701735  & -0.522553403 &  0.034756801 & -0.60974579  & -0.19970562  &  0.6104258   & -0.91484202 \\\\\n",
       "\\end{tabular}\n"
      ],
      "text/markdown": [
       "\n",
       "| Comp.1 | Comp.2 | Comp.3 | Comp.4 | Comp.5 | Comp.6 | Comp.7 | Comp.8 | Comp.9 | Comp.10 |\n",
       "|---|---|---|---|---|---|---|---|---|---|\n",
       "|  1.19257533  | -0.9624164   |  0.3980937   |  0.50197805  | -0.577455571 |  0.411399620 | -0.24815877  | -0.81254897  | -0.4295102   |  0.92153424  |\n",
       "|  1.89551320  | -0.2578783   | -0.2518712   |  0.48797933  |  0.284311849 | -0.897012671 |  0.18215177  | -0.11515942  | -0.4871803   |  0.38514133  |\n",
       "|  0.48188526  |  0.4912815   | -0.3857747   |  1.77343977  | -0.031226652 | -0.465602679 | -0.16706774  | -0.15107899  | -0.6827019   |  0.12087292  |\n",
       "|  1.54984827  | -0.4585983   |  1.4500335   |  1.46101714  | -0.006211607 |  0.147632097 | -0.01973236  | -0.03232592  | -0.3245371   |  0.03834163  |\n",
       "| -1.91371837  |  2.0146455   | -0.7537532   | -0.08311075  |  1.875692301 | -0.822424678 | -3.63350223  |  0.00471159  | -1.2526754   | -0.95646328  |\n",
       "| -4.57882791  | -3.6909655   | -1.2877104   | -0.06300368  |  1.200967776 |  0.002497741 | -0.58868729  | -0.16043900  | -0.3273647   |  0.40461396  |\n",
       "| -2.14408163  | -3.3790366   |  0.2740773   |  1.63278029  |  0.027414642 | -2.425375389 | -0.67314773  |  0.48218990  |  0.2287551   | -0.15980750  |\n",
       "|  0.01816618  | -1.0756557   |  0.2060558   |  0.43832082  |  0.246836187 |  0.377446787 | -0.31419328  |  0.62480597  |  0.4216055   | -0.97519450  |\n",
       "| -2.68857062  |  0.4798356   |  0.5945759   |  0.82200674  |  1.204001957 | -2.545772714 |  2.28346280  | -1.49360249  | -1.2644233   |  0.13913288  |\n",
       "|  0.71478412  | -0.2036122   |  0.5014127   |  1.36701735  | -0.522553403 |  0.034756801 | -0.60974579  | -0.19970562  |  0.6104258   | -0.91484202  |\n",
       "\n"
      ],
      "text/plain": [
       "      Comp.1      Comp.2     Comp.3     Comp.4      Comp.5       Comp.6      \n",
       " [1,]  1.19257533 -0.9624164  0.3980937  0.50197805 -0.577455571  0.411399620\n",
       " [2,]  1.89551320 -0.2578783 -0.2518712  0.48797933  0.284311849 -0.897012671\n",
       " [3,]  0.48188526  0.4912815 -0.3857747  1.77343977 -0.031226652 -0.465602679\n",
       " [4,]  1.54984827 -0.4585983  1.4500335  1.46101714 -0.006211607  0.147632097\n",
       " [5,] -1.91371837  2.0146455 -0.7537532 -0.08311075  1.875692301 -0.822424678\n",
       " [6,] -4.57882791 -3.6909655 -1.2877104 -0.06300368  1.200967776  0.002497741\n",
       " [7,] -2.14408163 -3.3790366  0.2740773  1.63278029  0.027414642 -2.425375389\n",
       " [8,]  0.01816618 -1.0756557  0.2060558  0.43832082  0.246836187  0.377446787\n",
       " [9,] -2.68857062  0.4798356  0.5945759  0.82200674  1.204001957 -2.545772714\n",
       "[10,]  0.71478412 -0.2036122  0.5014127  1.36701735 -0.522553403  0.034756801\n",
       "      Comp.7      Comp.8      Comp.9     Comp.10    \n",
       " [1,] -0.24815877 -0.81254897 -0.4295102  0.92153424\n",
       " [2,]  0.18215177 -0.11515942 -0.4871803  0.38514133\n",
       " [3,] -0.16706774 -0.15107899 -0.6827019  0.12087292\n",
       " [4,] -0.01973236 -0.03232592 -0.3245371  0.03834163\n",
       " [5,] -3.63350223  0.00471159 -1.2526754 -0.95646328\n",
       " [6,] -0.58868729 -0.16043900 -0.3273647  0.40461396\n",
       " [7,] -0.67314773  0.48218990  0.2287551 -0.15980750\n",
       " [8,] -0.31419328  0.62480597  0.4216055 -0.97519450\n",
       " [9,]  2.28346280 -1.49360249 -1.2644233  0.13913288\n",
       "[10,] -0.60974579 -0.19970562  0.6104258 -0.91484202"
      ]
     },
     "metadata": {},
     "output_type": "display_data"
    }
   ],
   "source": [
    "# Scores of the components\n",
    "pca$scores[1:10,]"
   ]
  },
  {
   "cell_type": "code",
   "execution_count": null,
   "metadata": {
    "collapsed": true
   },
   "outputs": [],
   "source": []
  }
 ],
 "metadata": {
  "hide_input": false,
  "kernelspec": {
   "display_name": "Python 3",
   "language": "python",
   "name": "python3"
  },
  "language_info": {
   "codemirror_mode": {
    "name": "ipython",
    "version": 3
   },
   "file_extension": ".py",
   "mimetype": "text/x-python",
   "name": "python",
   "nbconvert_exporter": "python",
   "pygments_lexer": "ipython3",
   "version": "3.7.4"
  }
 },
 "nbformat": 4,
 "nbformat_minor": 2
}
